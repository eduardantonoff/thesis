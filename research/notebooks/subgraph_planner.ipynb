{
 "cells": [
  {
   "cell_type": "markdown",
   "id": "a290a9fe",
   "metadata": {},
   "source": [
    "### Planner\n",
    "\n",
    "This notebook implements an LLM-based learning content generation module.\n",
    "\n",
    "The pipeline creates personalized educational sequences by:\n",
    "\n",
    "1. Planning a learning structure based on a topic and user profile;\n",
    "2. Generating educational content for each step;\n",
    "3. Replanning after content disclosure based on progress."
   ]
  },
  {
   "cell_type": "markdown",
   "id": "1970a738",
   "metadata": {},
   "source": [
    "#### Setup and Imports"
   ]
  },
  {
   "cell_type": "code",
   "execution_count": 1,
   "id": "9ae21fab",
   "metadata": {},
   "outputs": [],
   "source": [
    "import os\n",
    "import uuid\n",
    "import operator\n",
    "from typing import Annotated, Tuple, Union, TypedDict, List\n",
    "from dotenv import load_dotenv\n",
    "from pydantic import BaseModel, Field\n",
    "from langchain.embeddings import init_embeddings\n",
    "from langchain.chat_models import init_chat_model\n",
    "from langchain.prompts import ChatPromptTemplate\n",
    "from langgraph.types import Command, interrupt\n",
    "from langgraph.store.memory import InMemoryStore\n",
    "from langgraph.checkpoint.memory import MemorySaver\n",
    "from langgraph.graph import START, END, StateGraph"
   ]
  },
  {
   "cell_type": "markdown",
   "id": "cb829c01",
   "metadata": {},
   "source": [
    "#### Environment Configuration"
   ]
  },
  {
   "cell_type": "code",
   "execution_count": 2,
   "id": "99cdb398",
   "metadata": {},
   "outputs": [
    {
     "data": {
      "text/plain": [
       "True"
      ]
     },
     "execution_count": 2,
     "metadata": {},
     "output_type": "execute_result"
    }
   ],
   "source": [
    "load_dotenv(override = True)"
   ]
  },
  {
   "cell_type": "code",
   "execution_count": 3,
   "id": "6f3a7b7b",
   "metadata": {},
   "outputs": [],
   "source": [
    "THREAD = os.getenv(\"THREAD\")\n",
    "USER_ID = os.getenv(\"USER_ID\")\n",
    "OPENAI_CHAT_MODEL = os.getenv(\"OPENAI_CHAT_MODEL\")\n",
    "OPENAI_EMBED_MODEL = os.getenv(\"OPENAI_EMBED_MODEL\")\n",
    "OPENAI_API_PROXY = os.getenv(\"OPENAI_API_PROXY\")\n",
    "BASE_URL = os.getenv(\"BASE_URL\")"
   ]
  },
  {
   "cell_type": "code",
   "execution_count": 4,
   "id": "3744d952",
   "metadata": {},
   "outputs": [],
   "source": [
    "llm = init_chat_model(api_key = OPENAI_API_PROXY, base_url = BASE_URL, model = OPENAI_CHAT_MODEL)"
   ]
  },
  {
   "cell_type": "code",
   "execution_count": 5,
   "id": "851196f9",
   "metadata": {},
   "outputs": [],
   "source": [
    "memory = MemorySaver()"
   ]
  },
  {
   "cell_type": "code",
   "execution_count": null,
   "id": "586d5a76",
   "metadata": {},
   "outputs": [],
   "source": [
    "embeddings = init_embeddings(api_key = OPENAI_API_PROXY, base_url = BASE_URL, model = OPENAI_EMBED_MODEL)"
   ]
  },
  {
   "cell_type": "code",
   "execution_count": 7,
   "id": "520c5991",
   "metadata": {},
   "outputs": [],
   "source": [
    "store = InMemoryStore(index = {\"embed\": embeddings,\"dims\": 1536, \"fields\": [\"memory\", \"type\"]})"
   ]
  },
  {
   "cell_type": "code",
   "execution_count": 8,
   "id": "8a8d7d0e",
   "metadata": {},
   "outputs": [],
   "source": [
    "CONFIG = {'configurable': {'thread_id': THREAD, 'recursion_limit': 5, \"user_id\": USER_ID}}"
   ]
  },
  {
   "cell_type": "markdown",
   "id": "b0462d3b",
   "metadata": {},
   "source": [
    "#### Structured Output Models"
   ]
  },
  {
   "cell_type": "code",
   "execution_count": 9,
   "id": "be4dfc9a",
   "metadata": {},
   "outputs": [],
   "source": [
    "class PlanExecute(TypedDict):\n",
    "    \"\"\"Structure for tracking and executing the learning plan.\"\"\"\n",
    "    input: str\n",
    "    plan: list[str]\n",
    "    past_steps: Annotated[list[Tuple], operator.add]\n",
    "    learning_object: str\n",
    "    conclusion: str"
   ]
  },
  {
   "cell_type": "code",
   "execution_count": 10,
   "id": "372543fb",
   "metadata": {},
   "outputs": [],
   "source": [
    "class Step(BaseModel):\n",
    "    \"\"\"Represents a single step in a learning plan.\"\"\"\n",
    "    title: str = Field(description=\"Concise, descriptive title (5-10 words)\")\n",
    "    description: str = Field(description=\"Clear explanation of what this step covers and how it connects to the learning journey\")\n",
    "    learning_objective: str = Field(description=\"Specific, measurable outcome the learner will achieve after completing this step\")"
   ]
  },
  {
   "cell_type": "code",
   "execution_count": 11,
   "id": "df7ace47",
   "metadata": {},
   "outputs": [],
   "source": [
    "class Plan(BaseModel):\n",
    "    \"\"\"Collection of ordered learning steps.\"\"\"\n",
    "    steps: List[Step] = Field(description=\"Ordered sequence of learning steps that build progressively\")"
   ]
  },
  {
   "cell_type": "code",
   "execution_count": 12,
   "id": "0755a3fd",
   "metadata": {},
   "outputs": [],
   "source": [
    "class LearningObject(BaseModel):\n",
    "    \"\"\"Content delivered to the learner.\"\"\"\n",
    "    title: str = Field(description=\"Clear, engaging title that captures the essence of the content\")\n",
    "    content: str = Field(description=\"Educational material presented in a structured, accessible format (150-200 words)\")"
   ]
  },
  {
   "cell_type": "code",
   "execution_count": 13,
   "id": "13c31ffd",
   "metadata": {},
   "outputs": [],
   "source": [
    "class Conclusion(BaseModel):\n",
    "    \"\"\"Final summary of the learning session.\"\"\"\n",
    "    conclusion: str = Field(description=\"Comprehensive summary that reinforces key points from the entire learning journey\")"
   ]
  },
  {
   "cell_type": "code",
   "execution_count": 14,
   "id": "22df76ba",
   "metadata": {},
   "outputs": [],
   "source": [
    "class Act(BaseModel):\n",
    "    \"\"\"Decision point for continuing or concluding the learning flow.\"\"\"\n",
    "    action: Union[Conclusion, Plan] = Field(\n",
    "        description=\"Select either Plan (to continue with more steps) or Conclusion (to finalize the learning session)\"\n",
    "    )"
   ]
  },
  {
   "cell_type": "markdown",
   "id": "36f0d893",
   "metadata": {},
   "source": [
    "#### Prompts"
   ]
  },
  {
   "cell_type": "code",
   "execution_count": 15,
   "id": "e997fa9a",
   "metadata": {},
   "outputs": [],
   "source": [
    "planner_ = \"\"\"\n",
    "    You are a learning experience designer creating educational sequences.\n",
    "    Generate a structured learning plan with these characteristics:\n",
    "        - Progressive steps that build upon each other (3-5 steps total)\n",
    "        - Focus exclusively on the input topic without tangential concepts\n",
    "        - Include introduction and focused main body sections\n",
    "        - No conclusion or summary sections\n",
    "        - Avoid overlapping content between steps\n",
    "    \"\"\""
   ]
  },
  {
   "cell_type": "code",
   "execution_count": 16,
   "id": "fc48fe6b",
   "metadata": {},
   "outputs": [],
   "source": [
    "learner_ = \"\"\"\n",
    "    You are an expert learning experience designer.\n",
    "    Create a concise 'LearningObject' with these characteristics:\n",
    "        - Clear, well-structured educational content (150-200 words)\n",
    "        - Builds upon previous learning without unnecessary repetition\n",
    "        - Short, descriptive title (maximum 10 words)\n",
    "        - Focused content that achieves the specific learning objective\n",
    "        - No preamble or summary text\n",
    "    \"\"\""
   ]
  },
  {
   "cell_type": "code",
   "execution_count": 17,
   "id": "0aec7ec4",
   "metadata": {},
   "outputs": [],
   "source": [
    "replaner_ = planner_ + \"\"\"\n",
    "    Evaluate progress and determine next action:\n",
    "    \n",
    "    Objective: {input}\n",
    "    Original Plan: {plan}\n",
    "    Completed Steps: {past_steps}\n",
    "\n",
    "    Take one of these actions:\n",
    "    - If all steps are completed: Provide a Conclusion containing the lesson's content\n",
    "    - Otherwise: Update the plan with ONLY remaining steps, maintaining original detail level\n",
    "    \"\"\""
   ]
  },
  {
   "cell_type": "code",
   "execution_count": 18,
   "id": "97d0a403",
   "metadata": {},
   "outputs": [],
   "source": [
    "planner_prompt = ChatPromptTemplate.from_messages([(\"system\", planner_),(\"placeholder\", \"{messages}\")])\n",
    "planner = planner_prompt | llm.with_structured_output(Plan)"
   ]
  },
  {
   "cell_type": "code",
   "execution_count": 19,
   "id": "9bc8939e",
   "metadata": {},
   "outputs": [],
   "source": [
    "learning_prompt = ChatPromptTemplate.from_messages([(\"system\", learner_), (\"placeholder\", \"{messages}\")])\n",
    "object = learning_prompt | llm.with_structured_output(LearningObject)"
   ]
  },
  {
   "cell_type": "code",
   "execution_count": 20,
   "id": "3561553b",
   "metadata": {},
   "outputs": [],
   "source": [
    "replanner_prompt = ChatPromptTemplate.from_template(replaner_)\n",
    "replanner = replanner_prompt | llm.with_structured_output(Act)"
   ]
  },
  {
   "cell_type": "markdown",
   "id": "49fe0885",
   "metadata": {},
   "source": [
    "#### User Profile Managemen"
   ]
  },
  {
   "cell_type": "code",
   "execution_count": 21,
   "id": "bb69cd70",
   "metadata": {},
   "outputs": [],
   "source": [
    "def profile(config=CONFIG, store=store):\n",
    "    user_id = config[\"configurable\"][\"user_id\"]\n",
    "    namespace = (user_id, \"profile\")\n",
    "    profile_types = {\"name\": \"Name\", \"interests\": \"Interests\", \"preferences\": \"Preferences\", \"goals\": \"Goals\"}\n",
    "    \n",
    "    profile_data = {\n",
    "        label: \" \".join(m.value['memory'] for m in store.search(namespace, filter={'type': p_type}, limit=5))\n",
    "        for p_type, label in profile_types.items()\n",
    "    }\n",
    "    \n",
    "    return \"\\n\".join(f\"{label}: {content}\" for label, content in profile_data.items())"
   ]
  },
  {
   "cell_type": "code",
   "execution_count": 22,
   "id": "9a2d2fdb",
   "metadata": {},
   "outputs": [],
   "source": [
    "def store_profile(content: str, profile_type: str,  config = CONFIG, store = store):\n",
    "    VALID_PROFILE_TYPES = {\"name\", \"interests\", \"preferences\", \"goals\"}\n",
    "\n",
    "    if profile_type not in VALID_PROFILE_TYPES:\n",
    "        raise ValueError(f\"Invalid profile_type: '{profile_type}'. Valid types are: {', '.join(VALID_PROFILE_TYPES)}.\")\n",
    "    \n",
    "    user_id = config.get(\"configurable\", {}).get(\"user_id\")\n",
    "    if not user_id:\n",
    "        raise ValueError(\"User ID not found in configuration.\")\n",
    "           \n",
    "    namespace = (user_id, \"profile\")\n",
    "    memory_id = str(uuid.uuid4())\n",
    "    store.put(namespace, key=memory_id, value={\"memory\": content, \"type\": profile_type}, index=False)\n",
    "    return f\"Stored information: '{content}' | ID: {memory_id}\""
   ]
  },
  {
   "cell_type": "code",
   "execution_count": 23,
   "id": "2255d796",
   "metadata": {},
   "outputs": [
    {
     "name": "stdout",
     "output_type": "stream",
     "text": [
      "Name: Daniel\n",
      "Interests: Machine Learning and Artificial Intelligence\n",
      "Preferences: Detailed Real-Life Examples\n",
      "Goals: Becoming a Skilled Data Scientist and AI Expert\n"
     ]
    }
   ],
   "source": [
    "store_profile(\"Daniel\", \"name\")\n",
    "store_profile(\"Machine Learning and Artificial Intelligence\", \"interests\")\n",
    "store_profile(\"Detailed Real-Life Examples\", \"preferences\")\n",
    "store_profile(\"Becoming a Skilled Data Scientist and AI Expert\", \"goals\")\n",
    "\n",
    "print(profile())"
   ]
  },
  {
   "cell_type": "markdown",
   "id": "3e32622e",
   "metadata": {},
   "source": [
    "#### LangGraph Nodes"
   ]
  },
  {
   "cell_type": "code",
   "execution_count": null,
   "id": "14e2c711",
   "metadata": {},
   "outputs": [],
   "source": [
    "def execute_step(state: PlanExecute):\n",
    "    plan = state[\"plan\"]\n",
    "    current_step = plan[0]\n",
    "\n",
    "    plan_str = \"\\n\".join(\n",
    "        f\"{i+1}. {step.title}\\nDescription: {step.description}\\nLearning Objective: {step.learning_objective}\\n\"\n",
    "        for i, step in enumerate(plan)\n",
    "    )\n",
    "    \n",
    "    previous_steps_str = \". \".join(f'{i+1}. {desc}' for i, desc in enumerate(state[\"past_steps\"])) if state[\"past_steps\"] else \"\"\n",
    "    \n",
    "    if state[\"past_steps\"]:\n",
    "        prompt = f\"\"\"Given this overall learning plan: {plan_str}\n",
    "            And, having already covered: {previous_steps_str}\n",
    "            Your task is to execute step: {current_step}, building on previous information and anticipating future steps.\n",
    "            Focus on clear explanations, avoid repeating previous points and ensure a smooth flow of learning.\"\"\"\n",
    "    else:\n",
    "        prompt = f\"\"\"Given this learning plan: {plan_str}\n",
    "            Your task is to execute step: {current_step}, focusing on clear explanations and anticipating future steps.\"\"\"\n",
    "    \n",
    "    user_profile = profile()\n",
    "    result = object.invoke({\"messages\": [(\"user\", f\"{prompt}\\nPersonalize for user: {user_profile}\")]})\n",
    "    \n",
    "    return {\"past_steps\": [current_step], \"lo\": result}\n",
    "\n",
    "def plan_step(state: PlanExecute):\n",
    "    user_profile = profile()\n",
    "    plan = planner.invoke({\"messages\": [(\"user\", f\"{state['input']}\\nPersonalize for user: {user_profile}\")]})\n",
    "    return {\"plan\": plan.steps}\n",
    "\n",
    "def replan_step(state: PlanExecute):\n",
    "    output = replanner.invoke(state)\n",
    "    return (\n",
    "        {\"conclusion\": output.action.conclusion} \n",
    "        if isinstance(output.action, Conclusion) \n",
    "        else {\"plan\": output.action.steps}\n",
    "    )\n",
    "\n",
    "def disclose(state: PlanExecute):\n",
    "    return Command(goto=\"replan\") if interrupt({\"llm_output\": state[\"lo\"]}) else Command(goto=END)\n",
    "\n",
    "def should_end(state: PlanExecute):\n",
    "    return END if state.get(\"conclusion\") else \"learning_content\""
   ]
  },
  {
   "cell_type": "code",
   "execution_count": 37,
   "id": "0d99ea31",
   "metadata": {},
   "outputs": [],
   "source": [
    "learningflow = StateGraph(PlanExecute)\n",
    "\n",
    "learningflow.add_node(\"planning\", plan_step)\n",
    "learningflow.add_node(\"learning_content\", execute_step)\n",
    "learningflow.add_node(\"replan\", replan_step)\n",
    "learningflow.add_node(\"disclosure\", disclose)\n",
    "\n",
    "learningflow.add_edge(START, \"planning\")\n",
    "learningflow.add_edge(\"planning\", \"learning_content\")\n",
    "learningflow.add_edge(\"learning_content\", \"disclosure\")\n",
    "learningflow.add_edge(\"disclosure\", \"replan\")\n",
    "\n",
    "learningflow.add_conditional_edges(\"replan\", should_end, [\"learning_content\", END])\n",
    "\n",
    "planner = learningflow.compile(checkpointer = memory)"
   ]
  },
  {
   "cell_type": "code",
   "execution_count": 39,
   "id": "150f8280",
   "metadata": {},
   "outputs": [
    {
     "data": {
      "image/png": "[encoded data removed]",
      "text/plain": [
       "<langgraph.graph.state.CompiledStateGraph object at 0x117065480>"
      ]
     },
     "execution_count": 39,
     "metadata": {},
     "output_type": "execute_result"
    }
   ],
   "source": [
    "planner"
   ]
  },
  {
   "cell_type": "markdown",
   "id": "1419edd0",
   "metadata": {},
   "source": [
    "#### Test Execution with HITL"
   ]
  },
  {
   "cell_type": "code",
   "execution_count": null,
   "id": "c5d35211",
   "metadata": {},
   "outputs": [],
   "source": [
    "response = planner.invoke({\"input\": \"Artificial Intellegence\"}, config = CONFIG)"
   ]
  },
  {
   "cell_type": "code",
   "execution_count": null,
   "id": "59740d1a",
   "metadata": {},
   "outputs": [
    {
     "name": "stdout",
     "output_type": "stream",
     "text": [
      "\n",
      "1. INTRODUCTION TO ARTIFICIAL INTELLIGENCE\n",
      "-\n",
      "Begin with an overview of what Artificial Intelligence (AI) is, its history, and its impact on various industries. Emphasize the transformative nature of AI and its role in innovation. Use diagrams and timelines to illustrate AI's development and its significant milestones. Highlight real-life examples, such as AI in healthcare for predictive analysis or AI in finance for fraud detection.\n",
      "-\n",
      "Understand the fundamental concepts and historical context of Artificial Intelligence.\n",
      "\n",
      "2. CORE CONCEPTS OF MACHINE LEARNING\n",
      "-\n",
      "Dive into the essential theories underpinning Machine Learning, including supervised, unsupervised, and reinforcement learning. For each approach, provide real-life case studies demonstrating their application—like personalized recommendations in e-commerce (supervised learning) or customer segmentation (unsupervised learning). Use flowcharts to visualize how these methods work practically.\n",
      "-\n",
      "Familiarize with key Machine Learning concepts and their practical applications.\n",
      "\n",
      "3. PROBLEM-SOLVING STRATEGIES IN AI\n",
      "-\n",
      "Explore how AI systems approach problem-solving, focusing on heuristic and algorithmic strategies. Describe problem-solving techniques such as search algorithms and optimization methods by using examples like route planning in logistic companies or game-playing AI like AlphaGo. Visualize these strategies through step-by-step graphs and diagrams that demonstrate their application in real-world scenarios.\n",
      "-\n",
      "Learn how AI algorithms solve complex problems using strategic methods.\n",
      "\n",
      "4. IMPLEMENTING AI SOLUTIONS\n",
      "-\n",
      "Guide Daniel through the process of designing and implementing AI models, focusing on data cleaning, selecting features, and training models. Provide a detailed example of an AI project, such as developing a machine learning model to predict customer churn. Use visual aids like flowcharts to layout the step-by-step process of building an AI solution from start to finish.\n",
      "-\n",
      "Gain practical skills in developing AI models and solutions for real-world problems.\n",
      "\n",
      "5. CONTINUOUS LEARNING AND IMPROVEMENT IN AI\n",
      "-\n",
      "Address the importance of continuous improvement in AI by keeping up with the latest research and trends. Encourage participation in AI communities and forums. Introduce advanced machine learning techniques like deep learning and neural networks with specific examples, such as self-driving cars and AI in natural language processing. Use infographics to compare traditional AI methods with emerging techniques.\n",
      "-\n",
      "Stay updated with the latest advancements and continuously enhance AI expertise.\n"
     ]
    }
   ],
   "source": [
    "for i, item in enumerate(response['plan'], start=1):\n",
    "    print(f\"\\n{i}. {item.title.upper()}\")\n",
    "    print(\"-\")\n",
    "    print(f\"{item.description}\")\n",
    "    print(\"-\")\n",
    "    print(f\"{item.learning_objective}\")"
   ]
  },
  {
   "cell_type": "code",
   "execution_count": null,
   "id": "fd8a3997",
   "metadata": {},
   "outputs": [
    {
     "name": "stdout",
     "output_type": "stream",
     "text": [
      "Artificial Intelligence (AI) revolutionizes how we solve problems and innovate across industries. It began in the mid-20th century, when pioneers like Alan Turing theorized computational thinking, leading to the first AI programs in the 1950s. Over time, AI's impact has grown, from IBM's Deep Blue defeating a chess grandmaster in 1997 to Google's AlphaGo winning against champion Go players in 2016.\n",
      "\n",
      "AI enhances industries: in healthcare, predictive algorithms analyze patient data to foresee health issues; in finance, AI detects fraudulent transactions by analyzing patterns. These applications showcase AI's transformative power, optimizing efficiency and accuracy.\n",
      "\n",
      "Visual aids, such as a timeline of AI milestones, illustrate its historical context. Diagrams can clarify AI concepts like neural networks, which mimic the human brain to learn and adapt. Real-life case studies, such as AI-driven diagnostic tools in hospitals, further demonstrate its practical implications.\n",
      "\n",
      "Understanding AI's past and present primes you for engaging with advanced concepts like Machine Learning—the next step in your journey to becoming an AI expert, focusing on practical problem-solving through iterative learning and innovation.\n"
     ]
    }
   ],
   "source": [
    "print(response['learning_object'].content)"
   ]
  },
  {
   "cell_type": "code",
   "execution_count": null,
   "id": "c9b55f6d",
   "metadata": {},
   "outputs": [],
   "source": [
    "response = planner.invoke(Command(resume = \"continue\"), config = CONFIG)"
   ]
  },
  {
   "cell_type": "code",
   "execution_count": null,
   "id": "d5b25c23",
   "metadata": {},
   "outputs": [
    {
     "name": "stdout",
     "output_type": "stream",
     "text": [
      "\n",
      "1. CORE CONCEPTS OF MACHINE LEARNING\n",
      "-\n",
      "Dive into the essential theories underpinning Machine Learning, including supervised, unsupervised, and reinforcement learning. For each approach, provide real-life case studies demonstrating their application—like personalized recommendations in e-commerce (supervised learning) or customer segmentation (unsupervised learning). Use flowcharts to visualize how these methods work practically.\n",
      "-\n",
      "Familiarize with key Machine Learning concepts and their practical applications.\n",
      "\n",
      "2. PROBLEM-SOLVING STRATEGIES IN AI\n",
      "-\n",
      "Explore how AI systems approach problem-solving, focusing on heuristic and algorithmic strategies. Describe problem-solving techniques such as search algorithms and optimization methods by using examples like route planning in logistic companies or game-playing AI such as AlphaGo. Visualize these strategies through step-by-step graphs and diagrams demonstrating their application in real-world scenarios.\n",
      "-\n",
      "Learn how AI algorithms solve complex problems using strategic methods.\n",
      "\n",
      "3. IMPLEMENTING AI SOLUTIONS\n",
      "-\n",
      "Guide the learner through the process of designing and implementing AI models, focusing on data cleaning, selecting features, and training models. Provide a detailed example of an AI project, such as developing a machine learning model to predict customer churn. Use visual aids like flowcharts to layout the step-by-step process of building an AI solution from start to finish.\n",
      "-\n",
      "Gain practical skills in developing AI models and solutions for real-world problems.\n",
      "\n",
      "4. CONTINUOUS LEARNING AND IMPROVEMENT IN AI\n",
      "-\n",
      "Address the importance of continuous improvement in AI by keeping up with the latest research and trends. Encourage participation in AI communities and forums. Introduce advanced machine learning techniques like deep learning and neural networks with specific examples, such as self-driving cars and AI in natural language processing. Use infographics to compare traditional AI methods with emerging techniques.\n",
      "-\n",
      "Stay updated with the latest advancements and continuously enhance AI expertise.\n"
     ]
    }
   ],
   "source": [
    "for i, item in enumerate(response['plan'], start=1):\n",
    "    print(f\"\\n{i}. {item.title.upper()}\")\n",
    "    print(\"-\")\n",
    "    print(f\"{item.description}\")\n",
    "    print(\"-\")\n",
    "    print(f\"{item.learning_objective}\")"
   ]
  },
  {
   "cell_type": "code",
   "execution_count": null,
   "id": "8c02b3b0",
   "metadata": {},
   "outputs": [
    {
     "name": "stdout",
     "output_type": "stream",
     "text": [
      "Machine Learning (ML) emerges as a pivotal tool in AI, offering diverse techniques for data-driven decision-making. Three primary categories to explore are supervised, unsupervised, and reinforcement learning. Supervised learning, widely used in e-commerce, allows models to predict future events based on historical data, like personalized product recommendations for users. Visualize this process as a flowchart where labeled data guides the prediction outcomes.\n",
      "\n",
      "Unsupervised learning, another essential technique, excels in identifying patterns within data. It’s invaluable for customer segmentation, where data with no predefined labels are grouped based on inherent similarities. Imagine a visual clustering of customer profiles with common purchase behaviors evolving dynamically as new data arrives.\n",
      "\n",
      "Reinforcement learning offers a strategic learning paradigm, where systems learn optimal actions through trial and error within dynamic environments. Consider AI’s implementation in gaming, such as AlphaGo, which continuously improves by evaluating previous successes.\n",
      "\n",
      "These concepts lay the groundwork for advanced problem-solving strategies in AI. By understanding and visualizing these techniques, Daniel, you will develop a robust foundation to incorporate ML into innovative solutions, setting the stage for practical implementation in real-world projects.\n"
     ]
    }
   ],
   "source": [
    "print(response['learning_object'].content)"
   ]
  }
 ],
 "metadata": {
  "kernelspec": {
   "display_name": ".venv",
   "language": "python",
   "name": "python3"
  },
  "language_info": {
   "codemirror_mode": {
    "name": "ipython",
    "version": 3
   },
   "file_extension": ".py",
   "mimetype": "text/x-python",
   "name": "python",
   "nbconvert_exporter": "python",
   "pygments_lexer": "ipython3",
   "version": "3.13.2"
  }
 },
 "nbformat": 4,
 "nbformat_minor": 5
}
