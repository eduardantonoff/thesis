{
 "cells": [
  {
   "cell_type": "code",
   "execution_count": null,
   "metadata": {},
   "outputs": [],
   "source": [
    "import os\n",
    "import re\n",
    "import json\n",
    "import uuid\n",
    "import operator\n",
    "from dotenv import load_dotenv\n",
    "from pydantic import BaseModel, Field\n",
    "from IPython.display import Image, display\n",
    "from typing import Annotated, TypedDict, Annotated, Tuple, Union, TypedDict, Sequence\n",
    "from langchain_core.tools import tool\n",
    "from langchain_core.runnables import RunnableConfig\n",
    "from langchain_core.messages import SystemMessage , BaseMessage, trim_messages\n",
    "from langchain.embeddings import init_embeddings\n",
    "from langchain.chat_models import init_chat_model\n",
    "from langchain.prompts import ChatPromptTemplate\n",
    "from langgraph.prebuilt import ToolNode\n",
    "from langgraph.graph.message import add_messages\n",
    "from langgraph.types import Command, interrupt\n",
    "from langgraph.store.memory import InMemoryStore\n",
    "from langgraph.checkpoint.memory import MemorySaver\n",
    "from langgraph.graph import START, END, StateGraph, MessagesState"
   ]
  },
  {
   "cell_type": "code",
   "execution_count": 2,
   "metadata": {},
   "outputs": [
    {
     "data": {
      "text/plain": [
       "True"
      ]
     },
     "execution_count": 2,
     "metadata": {},
     "output_type": "execute_result"
    }
   ],
   "source": [
    "load_dotenv(override=True)"
   ]
  },
  {
   "cell_type": "code",
   "execution_count": 3,
   "metadata": {},
   "outputs": [],
   "source": [
    "THREAD = os.getenv('THREAD')\n",
    "USER_ID = os.getenv('USER_ID')\n",
    "GRAPH_PATH = os.getenv('GRAPH_PATH')\n",
    "BASE_URL = os.getenv('BASE_URL')\n",
    "OPENAI_CHAT_MODEL = os.getenv('OPENAI_CHAT_MODEL')\n",
    "OPENAI_EMBED_MODEL = os.getenv('OPENAI_EMBED_MODEL')\n",
    "OPENAI_API_PROXY = os.getenv('OPENAI_API_PROXY')"
   ]
  },
  {
   "cell_type": "code",
   "execution_count": 4,
   "metadata": {},
   "outputs": [],
   "source": [
    "CONFIG = {'configurable': {'thread_id': THREAD, 'recursion_limit': 3, \"user_id\": USER_ID}}"
   ]
  },
  {
   "cell_type": "code",
   "execution_count": 5,
   "metadata": {},
   "outputs": [],
   "source": [
    "langsmith_api = os.getenv(\"LANGSMITH_API_KEY\")\n",
    "\n",
    "os.environ[\"LANGCHAIN_TRACING_V2\"] = \"true\"\n",
    "os.environ[\"LANGCHAIN_PROJECT\"] = \"Agent Two\""
   ]
  },
  {
   "cell_type": "code",
   "execution_count": 7,
   "metadata": {},
   "outputs": [],
   "source": [
    "with open(GRAPH_PATH, \"r\") as f:\n",
    "    data = json.load(f)"
   ]
  },
  {
   "cell_type": "code",
   "execution_count": 8,
   "metadata": {},
   "outputs": [],
   "source": [
    "llm = init_chat_model(api_key = OPENAI_API_PROXY, base_url = BASE_URL, model = OPENAI_CHAT_MODEL)"
   ]
  },
  {
   "cell_type": "code",
   "execution_count": null,
   "metadata": {},
   "outputs": [],
   "source": [
    "embeddings = init_embeddings(api_key = OPENAI_API_PROXY, base_url = BASE_URL, model = OPENAI_EMBED_MODEL)"
   ]
  },
  {
   "cell_type": "code",
   "execution_count": 10,
   "metadata": {},
   "outputs": [],
   "source": [
    "memory = MemorySaver()"
   ]
  },
  {
   "cell_type": "code",
   "execution_count": 11,
   "metadata": {},
   "outputs": [],
   "source": [
    "store = InMemoryStore(index = {\"embed\": embeddings,\"dims\": 1536, \"fields\": [\"memory\", \"type\"]})"
   ]
  },
  {
   "cell_type": "code",
   "execution_count": 12,
   "metadata": {},
   "outputs": [],
   "source": [
    "class PlanExecute(TypedDict):\n",
    "    input: str\n",
    "    plan: list[str]\n",
    "    past_steps: Annotated[list[Tuple], operator.add]\n",
    "    lo: str\n",
    "    conclusion: str"
   ]
  },
  {
   "cell_type": "code",
   "execution_count": 13,
   "metadata": {},
   "outputs": [],
   "source": [
    "class Step(BaseModel):\n",
    "    title: str = Field(..., description=\"A concise title for the step.\")\n",
    "    description: str = Field(..., description=\"A detailed description of the step.\")\n",
    "    learning_objective: str = Field(..., description=\"The learning objective.\")"
   ]
  },
  {
   "cell_type": "code",
   "execution_count": 14,
   "metadata": {},
   "outputs": [],
   "source": [
    "class Plan(BaseModel):\n",
    "    steps: list[Step] = Field(..., description=\"A list of steps in sequential order.\")"
   ]
  },
  {
   "cell_type": "code",
   "execution_count": 15,
   "metadata": {},
   "outputs": [],
   "source": [
    "class LearningObject(BaseModel):\n",
    "    title: str = Field(..., description=\"A concise title.\")\n",
    "    content: str = Field(..., description=\"The actual learning content.\")"
   ]
  },
  {
   "cell_type": "code",
   "execution_count": 16,
   "metadata": {},
   "outputs": [],
   "source": [
    "class Conclusion(BaseModel):\n",
    "    conclusion: str = Field(..., description=\"A concise summary of the key aspects.\")"
   ]
  },
  {
   "cell_type": "code",
   "execution_count": 17,
   "metadata": {},
   "outputs": [],
   "source": [
    "class Act(BaseModel):\n",
    "    action: Union[Conclusion, Plan] = Field(..., description=(\"Choose an action: \"\n",
    "                                                              \"- Conclusion if you want to finalize. \"\n",
    "                                                              \"- Plan if you need more steps.\"))"
   ]
  },
  {
   "cell_type": "code",
   "execution_count": 18,
   "metadata": {},
   "outputs": [],
   "source": [
    "class LearningSession(BaseModel):\n",
    "    \"\"\"Provide a topic for a learning session\"\"\"\n",
    "    input: str = Field(..., description=\"A topic / concept for the learning session and The learning objective of the session.\")"
   ]
  },
  {
   "cell_type": "code",
   "execution_count": 542,
   "metadata": {},
   "outputs": [],
   "source": [
    "planner_ = \"\"\"\n",
    "You are a Learning Experience Designer for Machine Learning.\n",
    "Create plan (Intro & Main Parts) for educational content delivery.\n",
    "Structure content logically with clear progression between concepts.\n",
    "\"\"\"\n",
    "\n",
    "learner_ = \"\"\"\n",
    "You are a Machine Learning Learning Experience Designer.\n",
    "Create a learning object with:\n",
    "- Title: Concise description (max 10 words)\n",
    "- Content: Educational material with brief intro building to main content\n",
    "\"\"\"\n",
    "\n",
    "replaner_ = planner_ +  \"\"\"\n",
    "You are a Learning Experience Designer for Machine Learning.\n",
    "\n",
    "Topic: {input}\n",
    "Plan: {plan}\n",
    "Completed Step: {past_steps}\n",
    "\n",
    "Take one action:\n",
    "a. If both plan steps are completed: Provide a succinct conclusion summarizing key points\n",
    "b. Otherwise: Return only the remaining step (do not repeat completed steps)\n",
    "\"\"\""
   ]
  },
  {
   "cell_type": "code",
   "execution_count": 543,
   "metadata": {},
   "outputs": [],
   "source": [
    "planner_prompt = ChatPromptTemplate.from_messages([(\"system\", planner_),(\"placeholder\", \"{messages}\")])\n",
    "planner = planner_prompt | llm.with_structured_output(Plan)"
   ]
  },
  {
   "cell_type": "code",
   "execution_count": 544,
   "metadata": {},
   "outputs": [],
   "source": [
    "learning_prompt = ChatPromptTemplate.from_messages([(\"system\", learner_), (\"placeholder\", \"{messages}\")])\n",
    "object = learning_prompt | llm.with_structured_output(LearningObject)"
   ]
  },
  {
   "cell_type": "code",
   "execution_count": 545,
   "metadata": {},
   "outputs": [],
   "source": [
    "replanner_prompt = ChatPromptTemplate.from_template(replaner_)\n",
    "replanner = replanner_prompt | llm.with_structured_output(Act)"
   ]
  },
  {
   "cell_type": "code",
   "execution_count": 546,
   "metadata": {},
   "outputs": [],
   "source": [
    "def profile(config = CONFIG, store = store):\n",
    "    user_id = config[\"configurable\"][\"user_id\"]\n",
    "    namespace = (user_id, \"profile\")\n",
    "    profile_types = {\"name\": \"Name\", \"interests\": \"Interests\", \"preferences\": \"Preferences\", \"goals\": \"Goals\"}\n",
    "\n",
    "    profile_lines = [\n",
    "        f\"{label}: {' '.join(m.value['memory'] for m in store.search(namespace, filter={'type': p_type}, limit=5))}\"\n",
    "        for p_type, label in profile_types.items()\n",
    "    ]\n",
    "    user_profile = \"\\n\".join(profile_lines)\n",
    "    \n",
    "    return user_profile"
   ]
  },
  {
   "cell_type": "code",
   "execution_count": 547,
   "metadata": {},
   "outputs": [],
   "source": [
    "def store_profile(content: str, profile_type: str,  config = CONFIG, store = store):\n",
    "    \"\"\"Stores a user profile attribute in the database.\n",
    "    \n",
    "    Args:\n",
    "        content (str): The value of the profile attribute to store\n",
    "        profile_type (str): The category or type of the profile attribute. Valid types include: \"name\", \"interests\", \"preferences\", \"goals\".\n",
    "\n",
    "    Returns:\n",
    "        str: A confirmation message indicating the successfully stored content and its unique identifier (UUID).\n",
    "    \n",
    "    Raises:\n",
    "        ValueError: If an invalid `profile_type` is provided.  \n",
    "    \"\"\"\n",
    "    VALID_PROFILE_TYPES = {\"name\", \"interests\", \"preferences\", \"goals\"}\n",
    "\n",
    "    if profile_type not in VALID_PROFILE_TYPES:\n",
    "        raise ValueError(\n",
    "            f\"Invalid profile_type: '{profile_type}'. Valid types are: {', '.join(VALID_PROFILE_TYPES)}.\"\n",
    "        )\n",
    "\n",
    "    user_id = config.get(\"configurable\", {}).get(\"user_id\")\n",
    "    if not user_id:\n",
    "        raise ValueError(\"User ID not found in configuration.\")\n",
    "\n",
    "    namespace = (user_id, \"profile\")\n",
    "    memory_id = str(uuid.uuid4())\n",
    "    \n",
    "    store.put(\n",
    "        namespace,\n",
    "        key=memory_id,\n",
    "        value={\"memory\": content, \"type\": profile_type},\n",
    "        index=False\n",
    "    )\n",
    "    \n",
    "    return f\"Stored information: '{content}' | ID: {memory_id}\""
   ]
  },
  {
   "cell_type": "code",
   "execution_count": 27,
   "metadata": {},
   "outputs": [
    {
     "name": "stdout",
     "output_type": "stream",
     "text": [
      "Name: John\n",
      "Interests: Machine Learnign, Physics\n",
      "Preferences: Simple examples, Fun Facts\n",
      "Goals: Learn Basic Sataisitcs, Apply it in ML, Become Data Scientist\n"
     ]
    }
   ],
   "source": [
    "store_profile(\"John\", \"name\")\n",
    "store_profile(\"Machine Learnign, Physics\", \"interests\")\n",
    "store_profile(\"Simple examples, Fun Facts\", \"preferences\")\n",
    "store_profile(\"Learn Basic Sataisitcs, Apply it in ML, Become Data Scientist\", \"goals\")\n",
    "\n",
    "print(profile())"
   ]
  },
  {
   "cell_type": "code",
   "execution_count": null,
   "metadata": {},
   "outputs": [],
   "source": [
    "def execute_step(state: PlanExecute):\n",
    "    plan = state[\"plan\"]\n",
    "    current_step = plan[0]\n",
    "    plan_str = \"\\n\".join(\n",
    "        f\"{i+1}. {step.title}\\nDescription: {step.description}\\nLearning Objective: {step.learning_objective}\\n\"\n",
    "        for i, step in enumerate(plan))\n",
    "    \n",
    "    user_info = profile()\n",
    "\n",
    "    personalize = f\"\"\"\n",
    "            Personalize the learning experience for the user using the following profile information:\n",
    "\n",
    "            User Profile: {user_info}\n",
    "\n",
    "            **Instructions for Personalization:**\n",
    "\n",
    "            1. **Address by Name:** If the user's name is provided, use it to create a more personal and engaging interaction. If it's not the first response, do not use a greeting.\n",
    "            2. **Goal Alignment:**  Directly relate the content of the current step to the user's stated learning goals. Explain how understanding this step will help them reach their goals. Acknowledge how previous learning steps have built a foundation for the current step. Avoid repeating information previously covered.\n",
    "            3. **Learning Style Adaptations:** Modify the presentation style based on the user's learning preferences (e.g., if they prefer visual, include visual elements, if they prefer examples, provide lots of concrete examples).\n",
    "            4. **Interest Integration:** If possible, tie the examples or explanations to the user's interests.\n",
    "            5. **Flexibility:** If not all information is available, create the best personalization possible based on what is present.\n",
    "            6. **Progression and Flow:** The current content should build upon the previous steps' content instead of restarting the lesson or definition. Use transitional language to create a smoother progression between steps.\n",
    "            7. **Output Format:** The output must be a clear, concise and build up from the previous output.\n",
    "\n",
    "            NOTE: DO NOT mention user's profile. \n",
    "            \"\"\"\n",
    "\n",
    "    if state[\"past_steps\"]:\n",
    "        previous_steps_str = \". \".join([f'{i+1}. {desc}' for i, desc in enumerate(state[\"past_steps\"])])\n",
    "        prompt = f\"\"\"Given this overall learning plan:\\n{plan_str}\\n\n",
    "                     And, having already covered: {previous_steps_str}\\n\n",
    "                     Your task is to execute step: {current_step}, building on previous information and anticipating future steps. \n",
    "                     Focus on clear explanations, avoid repeating previous points and ensure a smooth flow of learning.\"\"\"\n",
    "    else:\n",
    "        prompt = f\"\"\"Given this learning plan:\\n{plan_str}\\n\n",
    "                     Your task is to execute step: {current_step}, focusing on clear explanations and anticipating future steps.\"\"\"\n",
    "\n",
    "    result = object.invoke({\"messages\": [(\"user\", prompt + personalize)]})\n",
    "    return {\"past_steps\": [current_step], \"lo\": result}\n",
    "\n",
    "def plan_step(state: PlanExecute):\n",
    "    plan = planner.invoke({\"messages\": [(\"user\", state[\"input\"])]})\n",
    "    return {\"plan\": plan.steps}\n",
    "\n",
    "def replan_step(state: PlanExecute):\n",
    "    output = replanner.invoke(state)\n",
    "    return {\"conclusion\": output.action.conclusion} if isinstance(output.action, Conclusion) else {\"plan\": output.action.steps}\n",
    "\n",
    "def disclose(state: PlanExecute):\n",
    "    return Command(goto=\"replan\") if interrupt({\"llm_output\": state[\"lo\"]}) else Command(goto=END)\n",
    "\n",
    "def should_end(state: PlanExecute):\n",
    "    return END if state.get(\"conclusion\") else \"learning_object\""
   ]
  },
  {
   "cell_type": "code",
   "execution_count": 29,
   "metadata": {},
   "outputs": [],
   "source": [
    "learningflow = StateGraph(PlanExecute)\n",
    "\n",
    "learningflow.add_node(\"planner\", plan_step)\n",
    "learningflow.add_node(\"learning_object\", execute_step)\n",
    "learningflow.add_node(\"replan\", replan_step)\n",
    "learningflow.add_node(\"disclosure\", disclose)\n",
    "\n",
    "learningflow.add_edge(START, \"planner\")\n",
    "learningflow.add_edge(\"planner\", \"learning_object\")\n",
    "learningflow.add_edge(\"learning_object\", \"disclosure\")\n",
    "learningflow.add_edge(\"disclosure\", \"replan\")\n",
    "\n",
    "learningflow.add_conditional_edges(\"replan\", should_end, [\"learning_object\", END])\n",
    "\n",
    "learn = learningflow.compile(checkpointer = memory)"
   ]
  },
  {
   "cell_type": "code",
   "execution_count": 30,
   "metadata": {},
   "outputs": [
    {
     "data": {
      "image/png": "[encoded data removed]",
      "text/plain": [
       "<langgraph.graph.state.CompiledStateGraph object at 0x10bd77a40>"
      ]
     },
     "execution_count": 30,
     "metadata": {},
     "output_type": "execute_result"
    }
   ],
   "source": [
    "learn"
   ]
  },
  {
   "cell_type": "code",
   "execution_count": 30,
   "metadata": {},
   "outputs": [],
   "source": [
    "class EvalExecute(TypedDict):\n",
    "    input: str\n",
    "    evaluations: list[str]\n",
    "    past_evals: Annotated[list[Tuple], operator.add]\n",
    "    eo: str\n",
    "    answer: Annotated[list[Tuple], operator.add]\n",
    "    report: str    "
   ]
  },
  {
   "cell_type": "code",
   "execution_count": 31,
   "metadata": {},
   "outputs": [],
   "source": [
    "class Eval(BaseModel):\n",
    "    title: str = Field(..., description = \"A concise title for the evaluation.\")\n",
    "    description: str = Field(..., description = \"A detailed description of the evaluation's content or purpose.\")"
   ]
  },
  {
   "cell_type": "code",
   "execution_count": 32,
   "metadata": {},
   "outputs": [],
   "source": [
    "class Evaluations(BaseModel):\n",
    "    evals: list[Eval] = Field(..., description = \"A list of evaluations, in sequential order.\")"
   ]
  },
  {
   "cell_type": "code",
   "execution_count": 33,
   "metadata": {},
   "outputs": [],
   "source": [
    "class EvalObject(BaseModel):\n",
    "    title: str = Field(..., description = \"Concise title of the evaluation object.\")\n",
    "    content: str = Field(..., description = \"The actual content of the evaluation object (questoon, multiple choice, code, etc.).\")\n",
    "    evaluation_criteria: list[str] = Field(..., description=\"List of criteria that the generated question should evaluate e.g. knowledge of x, y, z.\")"
   ]
  },
  {
   "cell_type": "code",
   "execution_count": 34,
   "metadata": {},
   "outputs": [],
   "source": [
    "class Report(BaseModel):\n",
    "    report: str = Field(..., description = \"A concise summary of the main points of the completed evaluation.\")"
   ]
  },
  {
   "cell_type": "code",
   "execution_count": 35,
   "metadata": {},
   "outputs": [],
   "source": [
    "class ActE(BaseModel):\n",
    "    action: Union[Report, Evaluations] = Field(..., description = \"Action to perform. \"\n",
    "                                                               \"- If you want to conclude, use Report. \"\n",
    "                                                               \"- If you need to progress further, use Evaluations.\")"
   ]
  },
  {
   "cell_type": "code",
   "execution_count": 36,
   "metadata": {},
   "outputs": [],
   "source": [
    "class AssessmentSession(BaseModel):\n",
    "    \"\"\"Determine skills for a assessment session\"\"\"\n",
    "    input: str"
   ]
  },
  {
   "cell_type": "code",
   "execution_count": 37,
   "metadata": {},
   "outputs": [],
   "source": [
    "# sub eval:\n",
    "mapper_ = \"\"\"\n",
    "    You are an expert psychometrician tasked with designing a comprehensive evaluation strategy. \n",
    "    Your goal is to create a structured list of assessment methods and activities that effectively gauge knowledge acquisition, directly aligned with a previously executed Learning Session Content. \n",
    "    This list will serve as a guide for instructors to organize their evaluation process.\n",
    "\n",
    "    Avoid referencing specific evals from the Learning Session Content.\n",
    "    Focus on outlining the high-level structure of the evaluation, rather than providing detailed, moment-by-moment instructions.\n",
    "    Each evaluation should be laser-focused on assessing a single, specific concept. Refrain from combining multiple concepts within a single assessment activity.\n",
    "\n",
    "    Key Guidelines:\n",
    "\n",
    "        - The evaluation plan should be structured logically, with clear progression between evals.\n",
    "        - Do not include any preamble or summary in your response.\n",
    "        - Limit to 3 evals.\n",
    "    \"\"\""
   ]
  },
  {
   "cell_type": "code",
   "execution_count": 38,
   "metadata": {},
   "outputs": [],
   "source": [
    "\n",
    "assessor_ = \"\"\"\n",
    "    You are an expert psychometrician tasked with creating focused evaluation items. \n",
    "    Your objective is to generate a single 'EvalObject' that delivers clear and precise assessment content, concentrating on a single concept at a time.\n",
    "\n",
    "    Key Guidelines:\n",
    "\n",
    "        -   The 'title' should be a concise and descriptive title (maximum 10 words) for the specific evaluation focus.\n",
    "        -   The 'content' should provide a single, well-structured assessment item (e.g., a question, multiple-choice problem, code snippet, etc.) related to the target concept.\n",
    "        -   The 'evaluation_criteria' should specify a single, clear criterion that the assessment item is designed to evaluate.\n",
    "        -   Do not include any preamble or summary in your response.\n",
    "        -   Focus on one specific concept per 'EvalObject'.\n",
    "    \"\"\""
   ]
  },
  {
   "cell_type": "code",
   "execution_count": 39,
   "metadata": {},
   "outputs": [],
   "source": [
    "remaper_ = mapper_ + \"\"\"\n",
    "\n",
    "        Learning Session Content: {input}\n",
    "\n",
    "        Original Evaluations List: {evaluations}\n",
    "\n",
    "        Completed Evals: {past_evals}\n",
    "\n",
    "    If all the Evaluations of the Original Evaluations List are in Completed Evals and you can provide a report to the learner, do so.  \n",
    "    Otherwise, update the Evaluations with ONLY the remaining Evals, providing the same level of detail as before.   \n",
    "    Do not repeat previously completed evaluations.\n",
    "        \"\"\""
   ]
  },
  {
   "cell_type": "code",
   "execution_count": 40,
   "metadata": {},
   "outputs": [],
   "source": [
    "mapper = ChatPromptTemplate.from_messages([(\"system\", mapper_),(\"placeholder\", \"{messages}\")]) | llm.with_structured_output(Evaluations)"
   ]
  },
  {
   "cell_type": "code",
   "execution_count": 41,
   "metadata": {},
   "outputs": [],
   "source": [
    "assessment = ChatPromptTemplate.from_messages([(\"system\", assessor_), (\"placeholder\", \"{messages}\")]) | llm.with_structured_output(EvalObject)"
   ]
  },
  {
   "cell_type": "code",
   "execution_count": 42,
   "metadata": {},
   "outputs": [],
   "source": [
    "remapper = ChatPromptTemplate.from_template(remaper_) | llm.with_structured_output(ActE)"
   ]
  },
  {
   "cell_type": "code",
   "execution_count": 43,
   "metadata": {},
   "outputs": [],
   "source": [
    "def execute_eval(state: EvalExecute):\n",
    "    evaluations = state[\"evaluations\"]\n",
    "    current_eval = evaluations[0]\n",
    "    eval_str = \"\\n\".join(f\"{i+1}. {eval}\" for i, eval in enumerate(evaluations, start=1))\n",
    "    prompt = f\"For the following evaluation plan:\\n{eval_str}\\n\\nYou are tasked with executing evaluation {1}: {current_eval}\"\n",
    "    result = assessment.invoke({\"messages\": [(\"user\", prompt)]})\n",
    "    return {\"past_evals\": [current_eval], \"eo\": result}\n",
    "\n",
    "def plan_eval(state: EvalExecute):\n",
    "    evaluations = mapper.invoke({\"messages\": [(\"user\", {\"input\": state[\"input\"]})]})\n",
    "    return {\"evaluations\": evaluations.evals}\n",
    "\n",
    "def remap_eval(state: EvalExecute):\n",
    "    output = remapper.invoke(state)\n",
    "    return {\"report\": output.action.report + str(state['past_evals']) + str(state['answer'])} if isinstance(output.action, Report) else {\"evaluations\": output.action.evals}\n",
    "\n",
    "def assess(state: EvalExecute):\n",
    "    answer = interrupt(\"Please provide your answer: \")\n",
    "    return {\"answer\": [answer]}\n",
    "\n",
    "def should_end(state: EvalExecute):\n",
    "    return END if state.get(\"report\") else \"evaluation_object\"\n"
   ]
  },
  {
   "cell_type": "code",
   "execution_count": 44,
   "metadata": {},
   "outputs": [],
   "source": [
    "evaluationflow = StateGraph(EvalExecute)\n",
    "\n",
    "evaluationflow.add_node(\"mapper\", plan_eval)\n",
    "evaluationflow.add_node(\"evaluation_object\", execute_eval)\n",
    "evaluationflow.add_node(\"remap\", remap_eval)\n",
    "evaluationflow.add_node(\"assessment\", assess)\n",
    "\n",
    "evaluationflow.add_edge(START, \"mapper\")\n",
    "evaluationflow.add_edge(\"mapper\", \"evaluation_object\")\n",
    "evaluationflow.add_edge(\"evaluation_object\", \"assessment\")\n",
    "evaluationflow.add_edge(\"assessment\", \"remap\")\n",
    "\n",
    "evaluationflow.add_conditional_edges(\"remap\", should_end, [\"evaluation_object\", END])\n",
    "\n",
    "evaluate = evaluationflow.compile(checkpointer = memory)"
   ]
  },
  {
   "cell_type": "code",
   "execution_count": 46,
   "metadata": {},
   "outputs": [
    {
     "data": {
      "image/png": "[encoded data removed]",
      "text/plain": [
       "<langgraph.graph.state.CompiledStateGraph object at 0x10bdc2060>"
      ]
     },
     "execution_count": 46,
     "metadata": {},
     "output_type": "execute_result"
    }
   ],
   "source": [
    "evaluate"
   ]
  },
  {
   "cell_type": "markdown",
   "metadata": {},
   "source": [
    "### Tools:"
   ]
  },
  {
   "cell_type": "code",
   "execution_count": 45,
   "metadata": {},
   "outputs": [],
   "source": [
    "@tool\n",
    "def store_profile(content: str, profile_type: str,  config = CONFIG, store = store):\n",
    "    \"\"\"Stores a user profile attribute in the database.\n",
    "    \n",
    "    Args:\n",
    "        content (str): The value of the profile attribute to store\n",
    "        profile_type (str): The category or type of the profile attribute.  \n",
    "                            Valid types include: \"name\", \"interests\", \"preferences\", \"goals\".\n",
    "\n",
    "    Returns:\n",
    "        str: A confirmation message indicating the successfully stored content and its unique identifier (UUID).\n",
    "    \n",
    "    Raises:\n",
    "        ValueError: If an invalid `profile_type` is provided.  \n",
    "    \"\"\"\n",
    "    VALID_PROFILE_TYPES = {\"name\", \"interests\", \"preferences\", \"goals\"}\n",
    "\n",
    "\n",
    "    if profile_type not in VALID_PROFILE_TYPES:\n",
    "        raise ValueError(\n",
    "            f\"Invalid profile_type: '{profile_type}'. Valid types are: {', '.join(VALID_PROFILE_TYPES)}.\"\n",
    "        )\n",
    "\n",
    "    user_id = config.get(\"configurable\", {}).get(\"user_id\")\n",
    "    if not user_id:\n",
    "        raise ValueError(\"User ID not found in configuration.\")\n",
    "\n",
    "    namespace = (user_id, \"profile\")\n",
    "    memory_id = str(uuid.uuid4())\n",
    "    \n",
    "    store.put(\n",
    "        namespace,\n",
    "        key=memory_id,\n",
    "        value={\"memory\": content, \"type\": profile_type},\n",
    "        index=False\n",
    "    )\n",
    "    \n",
    "    return f\"Stored information: '{content}' | ID: {memory_id}\""
   ]
  },
  {
   "cell_type": "code",
   "execution_count": 46,
   "metadata": {},
   "outputs": [],
   "source": [
    "@tool\n",
    "def retrieve_profile(profile_type: str, config = CONFIG, store = store):\n",
    "    \"\"\"Retrieves user profile information of a specified type.\n",
    "\n",
    "    Args:\n",
    "        profile_type: The type of information to retrieve (\"name\", \"interests\", \"preferences\", \"goals\").\n",
    "\n",
    "    Returns:\n",
    "        list: A list of dictionaries, each with 'content' and 'id'.  Empty list if no match.\n",
    "\n",
    "    Raises:\n",
    "        ValueError: For invalid profile_type.\n",
    "    \"\"\"\n",
    "\n",
    "    VALID_PROFILE_TYPES = {\"name\", \"interests\", \"preferences\", \"goals\"}\n",
    "\n",
    "    if profile_type not in VALID_PROFILE_TYPES:\n",
    "        raise ValueError(\n",
    "            f\"Invalid profile_type: '{profile_type}'. Valid types are: {', '.join(VALID_PROFILE_TYPES)}.\"\n",
    "        )\n",
    "\n",
    "    user_id = config.get(\"configurable\", {}).get(\"user_id\")\n",
    "    if not user_id:\n",
    "        raise ValueError(\"User ID not found in configuration.\")\n",
    "\n",
    "    namespace = (user_id, \"profile\")\n",
    "    results = store.search(namespace, filter={\"type\": profile_type})\n",
    "    \n",
    "    return [\n",
    "        {\"content\": item.value.get(\"memory\", \"\"), \"id\": item.key}\n",
    "        for item in results\n",
    "    ]"
   ]
  },
  {
   "cell_type": "code",
   "execution_count": 47,
   "metadata": {},
   "outputs": [],
   "source": [
    "@tool\n",
    "def delete_profile(key: str, config = CONFIG, store = store):\n",
    "    \"\"\"Deletes a specific user profile entry by its ID.\n",
    "\n",
    "    Args:\n",
    "        key: The unique ID of the profile entry to delete.\n",
    "\n",
    "    Returns:\n",
    "        str: A confirmation message if deleted or an error message if not found.\n",
    "    \"\"\"\n",
    "    user_id = config.get(\"configurable\", {}).get(\"user_id\")\n",
    "    if not user_id:\n",
    "        return \"Error: User ID not found in configuration.\"\n",
    "\n",
    "    namespace = (user_id, \"profile\")\n",
    "    \n",
    "    try:\n",
    "        success = store.delete(namespace, key)\n",
    "        if success:\n",
    "            return f\"Profile entry with ID {key} has been successfully deleted.\"\n",
    "        else:\n",
    "            return f\"Error: No profile entry found with ID {key}.\"\n",
    "    except Exception as e:\n",
    "        return f\"An error occurred while deleting the profile entry: {str(e)}\""
   ]
  },
  {
   "cell_type": "code",
   "execution_count": 48,
   "metadata": {},
   "outputs": [],
   "source": [
    "@tool\n",
    "def retrieve_sections(section_letter: str, data: dict = data):\n",
    "    \"\"\"Retrieves a list of concepts belonging to a specific section.\n",
    "\n",
    "    Args:\n",
    "        section_letter: The letter of the section to retrieve concepts from (e.g., \"A\", \"B\").\n",
    "\n",
    "    Returns:\n",
    "        A list of dictionaries, where each dictionary represents a concept and contains:\n",
    "            - \"id\": The unique ID of the concept.\n",
    "            - \"label\": The name or label of the concept.  \n",
    "        Returns an empty list if no concepts are found for the given section.\n",
    "        Returns an error message if input is invalid.\n",
    "    \"\"\"\n",
    "    if data is None:\n",
    "        return \"Error: 'data' dictionary not provided.\"  #Handle missing data\n",
    "    if not isinstance(section_letter, str) or not section_letter.isalpha() or len(section_letter) != 1:\n",
    "        return \"Error: Invalid section letter.  Must be a single alphabet character.\"\n",
    "    if \"concepts\" not in data:\n",
    "        return \"Error: 'concepts' key not found in the data dictionary.\"\n",
    "\n",
    "    results = []\n",
    "    for concept_id, concept_info in data[\"concepts\"].items():\n",
    "        if concept_info[\"section\"] == section_letter:\n",
    "            results.append({\"id\": concept_id, \"label\": concept_info[\"label\"]})\n",
    "    return results"
   ]
  },
  {
   "cell_type": "code",
   "execution_count": 49,
   "metadata": {},
   "outputs": [],
   "source": [
    "@tool\n",
    "def retrieve_concept(concept_id: str, data: dict = data):\n",
    "    \"\"\"Retrieves a concept by its unique ID.\n",
    "\n",
    "    Args:\n",
    "        concept_id: The ID of the concept to retrieve.\n",
    "\n",
    "    Returns:\n",
    "        A dictionary containing the concept's information if found, otherwise returns None.  \n",
    "        The concept dictionary, if found, will typically contain keys like \"label\", \"section\", and other relevant details.\n",
    "        Returns an error message if input is invalid.\n",
    "    \"\"\"\n",
    "    if data is None:\n",
    "        return \"Error: 'data' dictionary not provided.\" #Handle missing data\n",
    "    if not isinstance(concept_id, str):\n",
    "        return \"Error: Invalid concept ID. Must be a string.\"\n",
    "    if \"concepts\" not in data:\n",
    "        return \"Error: 'concepts' key not found in the data dictionary.\"\n",
    "\n",
    "    return data[\"concepts\"].get(concept_id, None)"
   ]
  },
  {
   "cell_type": "code",
   "execution_count": 50,
   "metadata": {},
   "outputs": [],
   "source": [
    "@tool\n",
    "def update_concept_status(concept_id: str, new_status: str, path: str = GRAPH_PATH):\n",
    "    \"\"\"\n",
    "    Updates a concept's status in a JSON file and saves the changes.\n",
    "\n",
    "    Args:\n",
    "        concept_id (str): The ID of the concept to update. Must follow the format 'Letter.Number' (e.g., 'A.1').\n",
    "        new_status (str): The new status for the concept. Must be one of \"mastery\", \"unlearned\", or \"awareness\".\n",
    "\n",
    "    Returns:\n",
    "        str: A message indicating success or failure, including details of any errors.\n",
    "    \"\"\"\n",
    "\n",
    "    ALLOWED_STATUSES = {\"mastery\", \"unlearned\", \"awareness\"}\n",
    "    CONCEPT_ID_PATTERN = re.compile(r'^[A-Z]\\.\\d+$')\n",
    "\n",
    "    if not isinstance(concept_id, str):\n",
    "        return \"Error: Invalid concept ID type. Must be a string.\"\n",
    "    if not CONCEPT_ID_PATTERN.match(concept_id):\n",
    "        return (\"Error: Invalid concept ID format. \"\n",
    "                \"The correct format is a single uppercase letter followed by a dot and a number (e.g., 'A.1').\")\n",
    "    if not isinstance(new_status, str):\n",
    "        return \"Error: Invalid status type. Must be a string.\"\n",
    "\n",
    "    if new_status not in ALLOWED_STATUSES:\n",
    "        allowed = \", \".join(sorted(ALLOWED_STATUSES))\n",
    "        return f\"Error: Invalid status '{new_status}'. Allowed statuses are: {allowed}.\"\n",
    "    if not os.path.exists(path):\n",
    "        return f\"Error: File '{path}' does not exist.\"\n",
    "    try:\n",
    "        with open(path, \"r\") as f:\n",
    "            data = json.load(f)\n",
    "    except json.JSONDecodeError as jde:\n",
    "        return f\"Error reading JSON from '{path}': {jde}\"\n",
    "    except Exception as e:\n",
    "        return f\"Error opening '{path}': {e}\"\n",
    "    if \"concepts\" not in data:\n",
    "        return \"Error: 'concepts' key not found in the JSON data.\"\n",
    "    if concept_id in data[\"concepts\"]:\n",
    "        current_status = data[\"concepts\"][concept_id].get(\"status\", \"undefined\")\n",
    "        if current_status == new_status:\n",
    "            return f\"No update needed: Concept '{concept_id}' is already set to '{new_status}'.\"\n",
    "        data[\"concepts\"][concept_id][\"status\"] = new_status\n",
    "        try:\n",
    "            with open(path, \"w\") as f:\n",
    "                json.dump(data, f, indent=4)\n",
    "            return (f\"Success: Status of concept '{concept_id}' updated from \"\n",
    "                    f\"'{current_status}' to '{new_status}'.\")\n",
    "        except Exception as e:\n",
    "            return f\"Error saving changes to '{path}': {e}\"\n",
    "    else:\n",
    "        return f\"Error: Concept with ID '{concept_id}' not found.\""
   ]
  },
  {
   "cell_type": "code",
   "execution_count": 51,
   "metadata": {},
   "outputs": [],
   "source": [
    "def knowledge_state(path: str = GRAPH_PATH):\n",
    "    \"\"\"\n",
    "    Retrieves all concepts that have a non-empty status and returns them in a readable format.\n",
    "\n",
    "    Args:\n",
    "        path (str): The file path to the JSON data. Defaults to GRAPH_PATH.\n",
    "\n",
    "    Returns:\n",
    "        str: A formatted string listing concepts with non-empty statuses or an error message.\n",
    "    \"\"\"\n",
    "    if not os.path.exists(path):\n",
    "        return f\"Error: File '{path}' does not exist.\"\n",
    "    try:\n",
    "        with open(path, \"r\") as f:\n",
    "            data = json.load(f)\n",
    "    except json.JSONDecodeError as jde:\n",
    "        return f\"Error reading JSON from '{path}': {jde}\"\n",
    "    except Exception as e:\n",
    "        return f\"Error opening '{path}': {e}\"\n",
    "    if \"concepts\" not in data:\n",
    "        return \"Error: 'concepts' key not found in the JSON data.\"\n",
    "\n",
    "    concepts_with_status = [\n",
    "        {\n",
    "            \"ID\": cid,\n",
    "            \"Label\": details.get(\"label\", \"N/A\"),\n",
    "            \"Status\": details.get(\"status\", \"N/A\")\n",
    "        }\n",
    "        for cid, details in data[\"concepts\"].items()\n",
    "        if details.get(\"status\")\n",
    "    ]\n",
    "\n",
    "    if not concepts_with_status:\n",
    "        return \"No concepts with a non-empty status found.\"\n",
    "\n",
    "    concepts_with_status.sort(key=lambda x: x[\"ID\"])\n",
    "\n",
    "    formatted_lines = [\n",
    "        f\"{c['ID']} {c['Label']} is {c['Status']}\"\n",
    "        for c in concepts_with_status\n",
    "    ]\n",
    "\n",
    "    formatted_output = \"\\n\".join(formatted_lines)\n",
    "    return formatted_output"
   ]
  },
  {
   "cell_type": "code",
   "execution_count": 52,
   "metadata": {},
   "outputs": [],
   "source": [
    "@tool\n",
    "def get_prerequisites(concept_id: str, path: str = GRAPH_PATH):\n",
    "    \"\"\"\n",
    "    Retrieves all prerequisites for a given concept ID, including their IDs and labels.\n",
    "\n",
    "    Args:\n",
    "        concept_id (str): The ID of the concept whose prerequisites are to be retrieved.\n",
    "\n",
    "    Returns:\n",
    "        str: A formatted string of prerequisites or an error message.\n",
    "    \"\"\"\n",
    "    CONCEPT_ID_PATTERN = r'^[A-Za-z]+\\.\\d+$'\n",
    "\n",
    "    if not re.match(CONCEPT_ID_PATTERN, concept_id):\n",
    "        return (f\"Error: Invalid concept ID format '{concept_id}'. \"\n",
    "                \"The correct format should be letters followed by a dot and number, e.g., 'A.1'.\")\n",
    "\n",
    "    if not os.path.exists(path):\n",
    "        return f\"Error: File '{path}' does not exist.\"\n",
    "\n",
    "    try:\n",
    "        with open(path, \"r\") as f:\n",
    "            data = json.load(f)\n",
    "    except json.JSONDecodeError as jde:\n",
    "        return f\"Error reading JSON from '{path}': {jde}\"\n",
    "    except Exception as e:\n",
    "        return f\"Error opening '{path}': {e}\"\n",
    "\n",
    "    if \"concepts\" not in data:\n",
    "        return \"Error: 'concepts' key not found in the JSON data.\"\n",
    "\n",
    "    if concept_id not in data[\"concepts\"]:\n",
    "        return f\"Error: Concept with ID '{concept_id}' not found.\"\n",
    "\n",
    "    prerequisites_ids = data[\"concepts\"][concept_id].get(\"prerequisites\", [])\n",
    "\n",
    "    if not prerequisites_ids:\n",
    "        return f\"Concept '{concept_id}' has no prerequisites.\"\n",
    "\n",
    "    prerequisites = []\n",
    "    missing_prereqs = []\n",
    "    for pid in prerequisites_ids:\n",
    "        prereq = data[\"concepts\"].get(pid)\n",
    "        if prereq:\n",
    "            prerequisites.append({\"ID\": pid, \"Label\": prereq.get(\"label\", \"N/A\")})\n",
    "        else:\n",
    "            missing_prereqs.append(pid)\n",
    "\n",
    "    output_lines = [f\"Prerequisites for Concept '{concept_id}':\"]\n",
    "\n",
    "    for prereq in prerequisites:\n",
    "        output_lines.append(f\" - {prereq['ID']}: {prereq['Label']}\")\n",
    "\n",
    "    if missing_prereqs:\n",
    "        output_lines.append(\"\\nWarning: The following prerequisite IDs were not found in the data:\")\n",
    "        for pid in missing_prereqs:\n",
    "            output_lines.append(f\" - {pid}\")\n",
    "\n",
    "    return \"\\n\".join(output_lines)"
   ]
  },
  {
   "cell_type": "code",
   "execution_count": 53,
   "metadata": {},
   "outputs": [],
   "source": [
    "knowledge_space = (\n",
    "    \"* Section A (A.1 – A.4): Measures of Central Tendency. \\n\"\n",
    "    \"* Section B (B.1 – B.5): Measures of Spread & Dispersion. \\n\"\n",
    "    \"* Section C (C.1 – C.5): Probability Fundamentals & Distributions. \\n\"\n",
    "    \"* Section D (D.1 – D.7): Statistical Inference, Sampling, and Testing. \\n\"\n",
    "    \"* Section E (E.1 – E.3): Correlation & Regression.\"\n",
    ")\n",
    "\n",
    "persona = (\n",
    "    \"You are a Learning Experience Designer (LXD) specializing in personalized learning paths. \\n\"\n",
    "    \"Your task is to curate relevant learning content for users based on their individual profiles and knowledge state.\"\n",
    ")\n",
    "\n",
    "task = (\n",
    "    \"Based on user's profile and current knowledge state, recommend the most relevant next learning concept from the Knowledge Graph. \\n\"\n",
    "    \"Explain your reasoning for selecting this concept, considering user's interests, learning preferences, and goals.\"\n",
    "    \"Knowledge graph is to guide your decision on elarning path direction. And make decison on what to present to the user via Learning Session.\"\n",
    "    \"You can engage LearningSession, during learnign session user will be exposed to the step-by-step learning session.\"\n",
    "    \"At the end of the session you will receive the a summary of the learnig content covered during the session.\"\n",
    ")\n",
    "\n",
    "instruction = (\n",
    "    \"Prioritize New Information: Always use the most up-to-date user information. \\n\"\n",
    "    \"If there's a conflict, discard the old data and use the new data. \\n\"\n",
    "    \"Uniqueness: Ensure there are no duplicate entries in the user profile. \\n\"\n",
    "    \"No Context: Do not provide any additional context or explanation beyond the requested concept ID and reasoning.\"\n",
    "    \"NEVER use plain text for mathematical symbols. \\n\"\n",
    "    \"NEVER use parentheses ( ) for variables - use LaTeX notation instead. \\n\"\n",
    "    \"IMPORTANT: Use math notation by enclosing them in double dollar signs / block math.\"\n",
    ")\n",
    "\n",
    "guidelines = (\n",
    "    \"Personalization: Tailor your reasoning to user's learning preferences by using encouraging and supportive language. \\n\"\n",
    "    \"Learning Path: Consider the logical progression of concepts within the knowledge graph. \\n\"\n",
    "    \"Recommend a concept that builds upon user's existing knowledge (represented by knowledge_state). \\n\"\n",
    ")"
   ]
  },
  {
   "cell_type": "code",
   "execution_count": 58,
   "metadata": {},
   "outputs": [],
   "source": [
    "def prepare_messages(state, config=CONFIG, store=store):\n",
    "    user_id = config[\"configurable\"][\"user_id\"]\n",
    "    namespace = (user_id, \"profile\")\n",
    "    profile_types = {\"name\": \"Name\", \"interests\": \"Interests\", \"preferences\": \"Preferences\", \"goals\": \"Goals\"}\n",
    "\n",
    "    profile_lines = [\n",
    "        f\"* {label}: {' '.join(m.value['memory'] for m in store.search(namespace, filter={'type': p_type}, limit=5))}\"\n",
    "        for p_type, label in profile_types.items()\n",
    "    ]\n",
    "    user_profile = \"\\n\".join(profile_lines)\n",
    "    \n",
    "    return [{\n",
    "        \"role\": \"system\",\n",
    "        \"content\": (\n",
    "            f\"**PERSONA:**\\n{persona}\\n\\n\"\n",
    "            f\"**USER PROFILE:**\\n{user_profile}\\n\\n\"\n",
    "            f\"**KNOWLEDGE GRAPH STRUCTURE:**\\n{knowledge_space}\\n\\n\"\n",
    "            f\"**KNOWLEDGE STATE:**\\n{knowledge_state()}\\n\\n\"\n",
    "            f\"**TASK:**\\n{task}\\n\\n\"\n",
    "            f\"**INSTRUCTIONS:**\\n{instruction}\\n\\n\"\n",
    "            f\"**GUIDELINES:**\\n{guidelines}\\n\\n\"\n",
    "        )\n",
    "    }] + state[\"messages\"]"
   ]
  },
  {
   "cell_type": "code",
   "execution_count": 59,
   "metadata": {},
   "outputs": [],
   "source": [
    "class AgentState(TypedDict):\n",
    "    messages: Annotated[Sequence[BaseMessage], add_messages]\n",
    "    lesson: str\n",
    "\n",
    "class LearningSession(BaseModel):\n",
    "    \"\"\"Provide a topic for a learnign session\"\"\"\n",
    "    input: str\n",
    "\n",
    "class AssessmentSession(BaseModel):\n",
    "    \"\"\"Determine skills for a assessment session\"\"\"\n",
    "    input: str"
   ]
  },
  {
   "cell_type": "code",
   "execution_count": 60,
   "metadata": {},
   "outputs": [],
   "source": [
    "tools = [store_profile, retrieve_profile, delete_profile, retrieve_sections, retrieve_concept, get_prerequisites, update_concept_status]"
   ]
  },
  {
   "cell_type": "code",
   "execution_count": 61,
   "metadata": {},
   "outputs": [],
   "source": [
    "tool_node = ToolNode(tools)"
   ]
  },
  {
   "cell_type": "code",
   "execution_count": null,
   "metadata": {},
   "outputs": [],
   "source": [
    "model = llm.bind_tools(tools + [LearningSession] + [AssessmentSession])"
   ]
  },
  {
   "cell_type": "code",
   "execution_count": 63,
   "metadata": {},
   "outputs": [],
   "source": [
    "tools_by_name = {tool.name: tool for tool in tools}"
   ]
  },
  {
   "cell_type": "code",
   "execution_count": 64,
   "metadata": {},
   "outputs": [],
   "source": [
    "def call_model(state: AgentState, config: RunnableConfig):\n",
    "    messages = trim_messages(state['messages'], strategy = \"last\",token_counter = len,max_tokens = 15,start_on = \"human\",end_on = (\"human\", \"tool\"),include_system = True)\n",
    "    system_prompt = SystemMessage(prepare_messages({\"messages\": []})[0][\"content\"])\n",
    "    response = model.invoke([system_prompt] + messages, config)\n",
    "    return {\"messages\": [response]}\n",
    "\n",
    "def learn_loop(state: AgentState):\n",
    "    tool_call_id = state[\"messages\"][-1].tool_calls[0][\"id\"]\n",
    "    topic = state[\"messages\"][-1]\n",
    "    response = learn.invoke({\"input\": json.loads(topic.additional_kwargs['tool_calls'][0]['function']['arguments'])[\"input\"]})\n",
    "    tool_message = [{\"tool_call_id\": tool_call_id, \"type\": \"tool\", \"content\": response}]\n",
    "    return {\"messages\": tool_message, \"lesson\": response}\n",
    "\n",
    "def eval_loop(state: AgentState):\n",
    "    tool_call_id = state[\"messages\"][-1].tool_calls[0][\"id\"]\n",
    "    print(state[\"lesson\"]['lo'].content)\n",
    "    topic = state[\"lesson\"]['lo'].content\n",
    "    response = evaluate.invoke({\"input\": {\"messages\": [{\"role\": \"user\", \"content\": topic}]}})\n",
    "    tool_message = [{\"tool_call_id\": tool_call_id, \"type\": \"tool\", \"content\": response}]\n",
    "    return {\"messages\": tool_message}\n",
    "\n",
    "def should_continue(state: AgentState):\n",
    "    messages = state[\"messages\"]\n",
    "    last_message = messages[-1]\n",
    "\n",
    "    if not last_message.tool_calls:\n",
    "        return END\n",
    "    elif last_message.tool_calls[0][\"name\"] == \"LearningSession\":\n",
    "        return \"learning session\"\n",
    "    elif last_message.tool_calls[0][\"name\"] == \"AssessmentSession\":\n",
    "        return \"evaluation session\"\n",
    "    else:\n",
    "        return \"action\""
   ]
  },
  {
   "cell_type": "code",
   "execution_count": 65,
   "metadata": {},
   "outputs": [],
   "source": [
    "mainflow = StateGraph(MessagesState)\n",
    "\n",
    "mainflow.add_node(\"agent\", call_model)\n",
    "mainflow.add_node(\"action\", tool_node)\n",
    "mainflow.add_node(\"learning session\", learn_loop)\n",
    "mainflow.add_node(\"evaluation session\", eval_loop)\n",
    "\n",
    "mainflow.add_edge(START, \"agent\")\n",
    "mainflow.add_conditional_edges(\"agent\", should_continue)\n",
    "mainflow.add_edge(\"action\", \"agent\")\n",
    "mainflow.add_edge(\"learning session\", \"agent\")\n",
    "mainflow.add_edge(\"evaluation session\", \"agent\")\n",
    "\n",
    "main = mainflow.compile(checkpointer = memory)"
   ]
  },
  {
   "cell_type": "code",
   "execution_count": 64,
   "metadata": {},
   "outputs": [
    {
     "data": {
      "image/png": "[encoded data removed]",
      "text/plain": [
       "<IPython.core.display.Image object>"
      ]
     },
     "metadata": {},
     "output_type": "display_data"
    }
   ],
   "source": [
    "display(Image(main.get_graph(xray=2).draw_mermaid_png()))"
   ]
  },
  {
   "cell_type": "markdown",
   "metadata": {},
   "source": [
    "### Tests:"
   ]
  },
  {
   "cell_type": "code",
   "execution_count": 66,
   "metadata": {},
   "outputs": [],
   "source": [
    "def invoke_llm(input_string, main=main, config=CONFIG):\n",
    "    state = main.get_state(config)\n",
    "    payload = {\"messages\": [{\"role\": \"user\", \"content\": input_string}]}\n",
    "\n",
    "    if state.next in [('learning session',), ('evaluation session',)]:\n",
    "        command = Command(resume=input_string)\n",
    "        response = main.invoke(command, config=config, subgraphs=True)\n",
    "    elif not state.next:\n",
    "        response = main.invoke(payload, config=config, subgraphs=True)\n",
    "    else:\n",
    "        raise ValueError(f\"Unexpected state.next value: {state.next}\")\n",
    "\n",
    "    response_content = \"No valid content found in the response.\"\n",
    "    \n",
    "    response_data = response[1] if len(response) > 1 and isinstance(response[1], dict) else {}\n",
    "\n",
    "    if 'messages' in response_data and isinstance(response_data['messages'], list) and response_data['messages']:\n",
    "        last_message = response_data['messages'][-1]\n",
    "        response_content = getattr(last_message, 'content', response_content)\n",
    "    elif 'lo' in response_data:\n",
    "        response_content = getattr(response_data['lo'], 'content', response_content)\n",
    "    elif 'eo' in response_data:\n",
    "        response_content = getattr(response_data['eo'], 'content', response_content)\n",
    "\n",
    "    return response_content, response "
   ]
  },
  {
   "cell_type": "code",
   "execution_count": 67,
   "metadata": {},
   "outputs": [
    {
     "data": {
      "text/plain": [
       "'Probability is a fundamental concept in both statistics and machine learning, as it helps in predicting future occurrences and making informed decisions. A probability space forms the basis of understanding this concept. It consists of three elements: a sample space (S), events (E), and a probability function (P). The sample space is the set of all possible outcomes. For instance, in a coin toss, S = {Heads, Tails}. An event is a subset of the sample space; here, E could be {Heads} or {Tails}.\\n\\nProbability axioms are foundational rules used to calculate probabilities. They state that: \\n1. The probability of an event is always between 0 and 1 (inclusive).\\n2. The probability of the entire sample space S is 1.\\n3. If two events are mutually exclusive, the probability of either event occurring is the sum of their probabilities.\\n\\nTo illustrate, consider the toss of a fair coin. The probability (P) of landing on heads is 0.5. These basic rules and examples align with statistical models you might encounter in machine learning. For instance, understanding how events like a click or purchase can be probabilistically modeled aids in building recommendation systems.\\n\\nThis foundational knowledge will be crucial when exploring probability distributions, which help quantify how data behaves. Such understanding directly supports your progression towards effectively applying statistical principles in data science, particularly within machine learning contexts.'"
      ]
     },
     "execution_count": 67,
     "metadata": {},
     "output_type": "execute_result"
    }
   ],
   "source": [
    "response, _ = invoke_llm('What shall we start with?')\n",
    "response"
   ]
  },
  {
   "cell_type": "code",
   "execution_count": 68,
   "metadata": {},
   "outputs": [
    {
     "data": {
      "text/plain": [
       "'Probability distributions are central to understanding patterns in data. Let\\'s delve into discrete and continuous distributions, which you\\'ve briefly touched upon with the foundational concepts of probability.\\n\\n**Discrete Distributions**: These involve finite or countably infinite outcomes. For instance, the **binomial distribution** models the number of successes in a fixed number of independent Bernoulli trials. Imagine a simple machine learning algorithm predicting whether an email is spam or not over 10 trials. The binomial distribution can help determine the probability of observing any number of \"spam\" predictions.\\n\\n**Continuous Distributions**: These cover outcomes over a continuum. A basic example is the **normal distribution**, familiar in physics as it describes numerous phenomena like measurement errors. It\\'s a key player in machine learning, underpinning many algorithms that assume a normal distribution of input features.\\n\\nUse these distributions to calculate **mean** (average outcome), **variance** (spread of results), and **standard deviation** (average distance from the mean). Mastering these calculations enhances your capability to analyze and interpret data, essential in machine learning for tasks like anomaly detection or building predictive models.\\n\\nRecognizing the difference between these distributions and their properties enables you to model real-world phenomena statistically, a crucial skill for a future data scientist.'"
      ]
     },
     "execution_count": 68,
     "metadata": {},
     "output_type": "execute_result"
    }
   ],
   "source": [
    "response, _ = invoke_llm('Sure, Lets do it!')\n",
    "response"
   ]
  },
  {
   "cell_type": "code",
   "execution_count": 69,
   "metadata": {},
   "outputs": [
    {
     "name": "stdout",
     "output_type": "stream",
     "text": [
      "\n",
      "1. EXPLORATION OF PROBABILITY DISTRIBUTIONS\n",
      "-\n",
      "Building on the foundational concepts, students will explore different types of probability distributions. Explain the difference between discrete and continuous distributions, and introduce common distributions like the binomial and normal distributions. Use visual aids and practical examples to show how these distributions are used to model real-world phenomena. Students will learn to interpret the characteristics of each distribution, such as mean, variance, and standard deviation.\n",
      "-\n",
      "Identify and understand key probability distributions, including their properties and applications. Recognize the difference between discrete and continuous distributions.\n"
     ]
    }
   ],
   "source": [
    "for i, item in enumerate(_[1]['plan'], start=1):\n",
    "    print(f\"\\n{i}. {item.title.upper()}\")\n",
    "    print(\"-\")\n",
    "    print(f\"{item.description}\")\n",
    "    print(\"-\")\n",
    "    print(f\"{item.learning_objective}\")"
   ]
  },
  {
   "cell_type": "code",
   "execution_count": 70,
   "metadata": {},
   "outputs": [
    {
     "data": {
      "text/plain": [
       "(('learning session:2cf1a26a-0e68-a526-57ea-8134949f24a6',),\n",
       " {'input': 'C.1 Probability Fundamentals & Distributions',\n",
       "  'plan': [Step(title='Exploration of Probability Distributions', description='Building on the foundational concepts, students will explore different types of probability distributions. Explain the difference between discrete and continuous distributions, and introduce common distributions like the binomial and normal distributions. Use visual aids and practical examples to show how these distributions are used to model real-world phenomena. Students will learn to interpret the characteristics of each distribution, such as mean, variance, and standard deviation.', learning_objective='Identify and understand key probability distributions, including their properties and applications. Recognize the difference between discrete and continuous distributions.')],\n",
       "  'past_steps': [Step(title='Introduction to Probability Fundamentals', description='In this initial step, students will be introduced to the basic concepts of probability. Start by defining probability and explaining the concept of a probability space, which includes the sample space and events. Discuss the axioms of probability and give simple examples to illustrate these ideas, such as the probability of a coin toss landing on heads. This step will lay the foundation for understanding how probabilities are calculated and interpreted.', learning_objective='Understanding the basic concepts and definitions of probability, including probability spaces, events, and the axioms of probability.'),\n",
       "   Step(title='Exploration of Probability Distributions', description='Building on the foundational concepts, students will explore different types of probability distributions. Explain the difference between discrete and continuous distributions, and introduce common distributions like the binomial and normal distributions. Use visual aids and practical examples to show how these distributions are used to model real-world phenomena. Students will learn to interpret the characteristics of each distribution, such as mean, variance, and standard deviation.', learning_objective='Identify and understand key probability distributions, including their properties and applications. Recognize the difference between discrete and continuous distributions.')],\n",
       "  'lo': LearningObject(title='Understanding Probability Distributions through Practical Examples', content='Probability distributions are central to understanding patterns in data. Let\\'s delve into discrete and continuous distributions, which you\\'ve briefly touched upon with the foundational concepts of probability.\\n\\n**Discrete Distributions**: These involve finite or countably infinite outcomes. For instance, the **binomial distribution** models the number of successes in a fixed number of independent Bernoulli trials. Imagine a simple machine learning algorithm predicting whether an email is spam or not over 10 trials. The binomial distribution can help determine the probability of observing any number of \"spam\" predictions.\\n\\n**Continuous Distributions**: These cover outcomes over a continuum. A basic example is the **normal distribution**, familiar in physics as it describes numerous phenomena like measurement errors. It\\'s a key player in machine learning, underpinning many algorithms that assume a normal distribution of input features.\\n\\nUse these distributions to calculate **mean** (average outcome), **variance** (spread of results), and **standard deviation** (average distance from the mean). Mastering these calculations enhances your capability to analyze and interpret data, essential in machine learning for tasks like anomaly detection or building predictive models.\\n\\nRecognizing the difference between these distributions and their properties enables you to model real-world phenomena statistically, a crucial skill for a future data scientist.')})"
      ]
     },
     "execution_count": 70,
     "metadata": {},
     "output_type": "execute_result"
    }
   ],
   "source": [
    "_"
   ]
  }
 ],
 "metadata": {
  "kernelspec": {
   "display_name": ".venv",
   "language": "python",
   "name": "python3"
  },
  "language_info": {
   "codemirror_mode": {
    "name": "ipython",
    "version": 3
   },
   "file_extension": ".py",
   "mimetype": "text/x-python",
   "name": "python",
   "nbconvert_exporter": "python",
   "pygments_lexer": "ipython3",
   "version": "3.13.2"
  }
 },
 "nbformat": 4,
 "nbformat_minor": 2
}
