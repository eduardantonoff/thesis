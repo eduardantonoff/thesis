{
 "cells": [
  {
   "cell_type": "code",
   "execution_count": 5,
   "metadata": {},
   "outputs": [],
   "source": [
    "from sklearn.metrics import cohen_kappa_score"
   ]
  },
  {
   "cell_type": "code",
   "execution_count": 19,
   "metadata": {},
   "outputs": [
    {
     "name": "stdout",
     "output_type": "stream",
     "text": [
      "Personalisation Cohen's Kappa: 0.6575342465753424\n"
     ]
    }
   ],
   "source": [
    "rater_a = [3, 2, 3, 3, 3, 2, 3, 3, 3, 3, 3, 3, 3, 3, 3, 3, 2, 3, 3, 3, 3, 3, 2, 3, 3]\n",
    "rater_b = [3, 2, 3, 3, 3, 2, 3, 3, 2, 2, 3, 3, 3, 3, 3, 3, 2, 3, 2, 3, 3, 3, 2, 3, 3]\n",
    "\n",
    "kappa = cohen_kappa_score(rater_a, rater_b)\n",
    "print(f\"Personalisation Cohen's Kappa: {kappa}\")"
   ]
  },
  {
   "cell_type": "code",
   "execution_count": 9,
   "metadata": {},
   "outputs": [
    {
     "name": "stdout",
     "output_type": "stream",
     "text": [
      "Coherence Cohen's Kappa: 0.7844827586206897\n"
     ]
    }
   ],
   "source": [
    "rater_a = [3, 3, 3, 3, 3, 1, 2, 3, 3, 3, 3, 3, 3, 3, 3, 3, 3, 3, 3, 3, 3, 3, 3, 3, 3]\n",
    "rater_b = [3, 3, 3, 3, 2, 1, 2, 3, 3, 3, 3, 3, 3, 3, 3, 3, 3, 3, 3, 3, 3, 3, 3, 3, 3]\n",
    "\n",
    "kappa = cohen_kappa_score(rater_a, rater_b)\n",
    "print(f\"Coherence Cohen's Kappa: {kappa}\")"
   ]
  },
  {
   "cell_type": "code",
   "execution_count": 20,
   "metadata": {},
   "outputs": [
    {
     "name": "stdout",
     "output_type": "stream",
     "text": [
      "Relevance Cohen's Kappa: 0.7844827586206897\n"
     ]
    }
   ],
   "source": [
    "rater_a = [3, 3, 3, 3, 3, 1, 3, 3, 3, 3, 3, 3, 3, 3, 3, 3, 3, 3, 3, 3, 3, 3, 2, 3, 3]\n",
    "rater_b = [3, 3, 3, 3, 3, 1, 2, 3, 3, 3, 3, 3, 3, 3, 3, 3, 3, 3, 3, 3, 3, 3, 2, 3, 3]\n",
    "\n",
    "kappa = cohen_kappa_score(rater_a, rater_b)\n",
    "print(f\"Relevance Cohen's Kappa: {kappa}\")"
   ]
  },
  {
   "cell_type": "code",
   "execution_count": 11,
   "metadata": {},
   "outputs": [
    {
     "name": "stdout",
     "output_type": "stream",
     "text": [
      "Tool Use Cohen's Kappa: 0.6556473829201102\n"
     ]
    }
   ],
   "source": [
    "rater_a = [2, 3, 3, 3, 2, 2, 2, 2, 2, 3, 1, 3, 3, 3, 2, 3, 3, 2, 1, 3, 3, 3, 1, 3, 3]\n",
    "rater_b = [2, 3, 3, 3, 2, 2, 3, 2, 2, 2, 1, 3, 3, 3, 2, 3, 3, 2, 1, 2, 2, 3, 2, 3, 3]\n",
    "\n",
    "kappa = cohen_kappa_score(rater_a, rater_b)\n",
    "print(f\"Tool Use Cohen's Kappa: {kappa}\")"
   ]
  },
  {
   "cell_type": "code",
   "execution_count": 14,
   "metadata": {},
   "outputs": [
    {
     "name": "stdout",
     "output_type": "stream",
     "text": [
      "Context Use Cohen's Kappa: 0.5941558441558441\n"
     ]
    }
   ],
   "source": [
    "rater_a = [3, 3, 3, 3, 3, 1, 3, 3, 3, 3, 3, 3, 3, 3, 2, 3, 2, 2, 2, 3, 3, 3, 2, 3, 3]\n",
    "rater_b = [3, 3, 2, 3, 2, 1, 2, 3, 2, 2, 3, 3, 3, 3, 2, 3, 2, 2, 2, 3, 3, 3, 2, 3, 3]\n",
    "\n",
    "kappa = cohen_kappa_score(rater_a, rater_b)\n",
    "print(f\"Context Use Cohen's Kappa: {kappa}\")"
   ]
  }
 ],
 "metadata": {
  "kernelspec": {
   "display_name": "venv",
   "language": "python",
   "name": "python3"
  },
  "language_info": {
   "codemirror_mode": {
    "name": "ipython",
    "version": 3
   },
   "file_extension": ".py",
   "mimetype": "text/x-python",
   "name": "python",
   "nbconvert_exporter": "python",
   "pygments_lexer": "ipython3",
   "version": "3.12.9"
  }
 },
 "nbformat": 4,
 "nbformat_minor": 2
}
