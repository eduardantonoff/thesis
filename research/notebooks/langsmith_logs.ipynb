{
 "cells": [
  {
   "cell_type": "code",
   "execution_count": null,
   "metadata": {},
   "outputs": [],
   "source": [
    "import pandas as pd\n",
    "import seaborn as sns\n",
    "import matplotlib.pyplot as plt\n",
    "from langsmith import Client\n",
    "from dotenv import load_dotenv\n",
    "from datetime import datetime, timedelta, UTC"
   ]
  },
  {
   "cell_type": "code",
   "execution_count": 8,
   "metadata": {},
   "outputs": [
    {
     "data": {
      "text/plain": [
       "True"
      ]
     },
     "execution_count": 8,
     "metadata": {},
     "output_type": "execute_result"
    }
   ],
   "source": [
    "load_dotenv(override = True)"
   ]
  },
  {
   "cell_type": "code",
   "execution_count": null,
   "metadata": {},
   "outputs": [],
   "source": [
    "project_name = 'Thesis'\n",
    "num_days = 100"
   ]
  },
  {
   "cell_type": "code",
   "execution_count": 11,
   "metadata": {},
   "outputs": [],
   "source": [
    "client = Client()"
   ]
  },
  {
   "cell_type": "code",
   "execution_count": 12,
   "metadata": {},
   "outputs": [],
   "source": [
    "start_time = datetime.now(UTC) - timedelta(days=num_days)\n",
    "\n",
    "runs = list(\n",
    "    client.list_runs(\n",
    "        project_name=project_name,\n",
    "        run_type=\"llm\",\n",
    "        start_time=start_time,\n",
    "    )\n",
    ")"
   ]
  },
  {
   "cell_type": "code",
   "execution_count": null,
   "metadata": {},
   "outputs": [
    {
     "data": {
      "text/html": [
       "<div>\n",
       "<style scoped>\n",
       "    .dataframe tbody tr th:only-of-type {\n",
       "        vertical-align: middle;\n",
       "    }\n",
       "\n",
       "    .dataframe tbody tr th {\n",
       "        vertical-align: top;\n",
       "    }\n",
       "\n",
       "    .dataframe thead th {\n",
       "        text-align: right;\n",
       "    }\n",
       "</style>\n",
       "<table border=\"1\" class=\"dataframe\">\n",
       "  <thead>\n",
       "    <tr style=\"text-align: right;\">\n",
       "      <th></th>\n",
       "      <th>name</th>\n",
       "      <th>model</th>\n",
       "      <th>messages</th>\n",
       "      <th>generations</th>\n",
       "      <th>llm_output</th>\n",
       "      <th>run</th>\n",
       "      <th>type</th>\n",
       "      <th>error</th>\n",
       "      <th>latency</th>\n",
       "      <th>prompt_tokens</th>\n",
       "      <th>completion_tokens</th>\n",
       "      <th>total_tokens</th>\n",
       "    </tr>\n",
       "  </thead>\n",
       "  <tbody>\n",
       "    <tr>\n",
       "      <th>d779035f-be6c-4349-8d69-d59119faa06d</th>\n",
       "      <td>ChatOpenAI</td>\n",
       "      <td>gpt-4o</td>\n",
       "      <td>[[{'lc': 1, 'type': 'constructor', 'id': ['lan...</td>\n",
       "      <td>[[{'text': '### Assessment Results\n",
       "\n",
       "Here are t...</td>\n",
       "      <td>{'token_usage': {'completion_tokens': 214, 'pr...</td>\n",
       "      <td>NaN</td>\n",
       "      <td>LLMResult</td>\n",
       "      <td>None</td>\n",
       "      <td>3.730141</td>\n",
       "      <td>4314</td>\n",
       "      <td>214</td>\n",
       "      <td>4528</td>\n",
       "    </tr>\n",
       "    <tr>\n",
       "      <th>d936fe88-32a8-4c4b-82d4-fcfa951f2fb4</th>\n",
       "      <td>ChatOpenAI</td>\n",
       "      <td>gpt-4o</td>\n",
       "      <td>[[{'lc': 1, 'type': 'constructor', 'id': ['lan...</td>\n",
       "      <td>[[{'text': '{\"action\":{\"report\":\"Assessment is...</td>\n",
       "      <td>{'token_usage': {'completion_tokens': 17, 'pro...</td>\n",
       "      <td>NaN</td>\n",
       "      <td>LLMResult</td>\n",
       "      <td>None</td>\n",
       "      <td>0.673062</td>\n",
       "      <td>792</td>\n",
       "      <td>17</td>\n",
       "      <td>809</td>\n",
       "    </tr>\n",
       "    <tr>\n",
       "      <th>d4add851-ac47-4bf2-9b16-753c939e2ebd</th>\n",
       "      <td>ChatOpenAI</td>\n",
       "      <td>gpt-4o</td>\n",
       "      <td>[[{'lc': 1, 'type': 'constructor', 'id': ['lan...</td>\n",
       "      <td>[[{'text': '{\"title\":\"R-squared Interpretation...</td>\n",
       "      <td>{'token_usage': {'completion_tokens': 55, 'pro...</td>\n",
       "      <td>NaN</td>\n",
       "      <td>LLMResult</td>\n",
       "      <td>None</td>\n",
       "      <td>1.434792</td>\n",
       "      <td>767</td>\n",
       "      <td>55</td>\n",
       "      <td>822</td>\n",
       "    </tr>\n",
       "    <tr>\n",
       "      <th>8c45eacf-22b0-4345-acfc-f5d212062d4a</th>\n",
       "      <td>ChatOpenAI</td>\n",
       "      <td>gpt-4o</td>\n",
       "      <td>[[{'lc': 1, 'type': 'constructor', 'id': ['lan...</td>\n",
       "      <td>[[{'text': '{\"action\":{\"evals\":[{\"title\":\"R-sq...</td>\n",
       "      <td>{'token_usage': {'completion_tokens': 47, 'pro...</td>\n",
       "      <td>NaN</td>\n",
       "      <td>LLMResult</td>\n",
       "      <td>None</td>\n",
       "      <td>0.984055</td>\n",
       "      <td>786</td>\n",
       "      <td>47</td>\n",
       "      <td>833</td>\n",
       "    </tr>\n",
       "    <tr>\n",
       "      <th>53cac372-b933-4010-9fcf-5b63fdb0c1cf</th>\n",
       "      <td>ChatOpenAI</td>\n",
       "      <td>gpt-4o</td>\n",
       "      <td>[[{'lc': 1, 'type': 'constructor', 'id': ['lan...</td>\n",
       "      <td>[[{'text': '{\"title\":\"Positive Slope Interpret...</td>\n",
       "      <td>{'token_usage': {'completion_tokens': 46, 'pro...</td>\n",
       "      <td>NaN</td>\n",
       "      <td>LLMResult</td>\n",
       "      <td>None</td>\n",
       "      <td>1.194618</td>\n",
       "      <td>794</td>\n",
       "      <td>46</td>\n",
       "      <td>840</td>\n",
       "    </tr>\n",
       "  </tbody>\n",
       "</table>\n",
       "</div>"
      ],
      "text/plain": [
       "                                            name   model  \\\n",
       "d779035f-be6c-4349-8d69-d59119faa06d  ChatOpenAI  gpt-4o   \n",
       "d936fe88-32a8-4c4b-82d4-fcfa951f2fb4  ChatOpenAI  gpt-4o   \n",
       "d4add851-ac47-4bf2-9b16-753c939e2ebd  ChatOpenAI  gpt-4o   \n",
       "8c45eacf-22b0-4345-acfc-f5d212062d4a  ChatOpenAI  gpt-4o   \n",
       "53cac372-b933-4010-9fcf-5b63fdb0c1cf  ChatOpenAI  gpt-4o   \n",
       "\n",
       "                                                                               messages  \\\n",
       "d779035f-be6c-4349-8d69-d59119faa06d  [[{'lc': 1, 'type': 'constructor', 'id': ['lan...   \n",
       "d936fe88-32a8-4c4b-82d4-fcfa951f2fb4  [[{'lc': 1, 'type': 'constructor', 'id': ['lan...   \n",
       "d4add851-ac47-4bf2-9b16-753c939e2ebd  [[{'lc': 1, 'type': 'constructor', 'id': ['lan...   \n",
       "8c45eacf-22b0-4345-acfc-f5d212062d4a  [[{'lc': 1, 'type': 'constructor', 'id': ['lan...   \n",
       "53cac372-b933-4010-9fcf-5b63fdb0c1cf  [[{'lc': 1, 'type': 'constructor', 'id': ['lan...   \n",
       "\n",
       "                                                                            generations  \\\n",
       "d779035f-be6c-4349-8d69-d59119faa06d  [[{'text': '### Assessment Results\n",
       "\n",
       "Here are t...   \n",
       "d936fe88-32a8-4c4b-82d4-fcfa951f2fb4  [[{'text': '{\"action\":{\"report\":\"Assessment is...   \n",
       "d4add851-ac47-4bf2-9b16-753c939e2ebd  [[{'text': '{\"title\":\"R-squared Interpretation...   \n",
       "8c45eacf-22b0-4345-acfc-f5d212062d4a  [[{'text': '{\"action\":{\"evals\":[{\"title\":\"R-sq...   \n",
       "53cac372-b933-4010-9fcf-5b63fdb0c1cf  [[{'text': '{\"title\":\"Positive Slope Interpret...   \n",
       "\n",
       "                                                                             llm_output  \\\n",
       "d779035f-be6c-4349-8d69-d59119faa06d  {'token_usage': {'completion_tokens': 214, 'pr...   \n",
       "d936fe88-32a8-4c4b-82d4-fcfa951f2fb4  {'token_usage': {'completion_tokens': 17, 'pro...   \n",
       "d4add851-ac47-4bf2-9b16-753c939e2ebd  {'token_usage': {'completion_tokens': 55, 'pro...   \n",
       "8c45eacf-22b0-4345-acfc-f5d212062d4a  {'token_usage': {'completion_tokens': 47, 'pro...   \n",
       "53cac372-b933-4010-9fcf-5b63fdb0c1cf  {'token_usage': {'completion_tokens': 46, 'pro...   \n",
       "\n",
       "                                      run       type error   latency  \\\n",
       "d779035f-be6c-4349-8d69-d59119faa06d  NaN  LLMResult  None  3.730141   \n",
       "d936fe88-32a8-4c4b-82d4-fcfa951f2fb4  NaN  LLMResult  None  0.673062   \n",
       "d4add851-ac47-4bf2-9b16-753c939e2ebd  NaN  LLMResult  None  1.434792   \n",
       "8c45eacf-22b0-4345-acfc-f5d212062d4a  NaN  LLMResult  None  0.984055   \n",
       "53cac372-b933-4010-9fcf-5b63fdb0c1cf  NaN  LLMResult  None  1.194618   \n",
       "\n",
       "                                      prompt_tokens  completion_tokens  \\\n",
       "d779035f-be6c-4349-8d69-d59119faa06d           4314                214   \n",
       "d936fe88-32a8-4c4b-82d4-fcfa951f2fb4            792                 17   \n",
       "d4add851-ac47-4bf2-9b16-753c939e2ebd            767                 55   \n",
       "8c45eacf-22b0-4345-acfc-f5d212062d4a            786                 47   \n",
       "53cac372-b933-4010-9fcf-5b63fdb0c1cf            794                 46   \n",
       "\n",
       "                                      total_tokens  \n",
       "d779035f-be6c-4349-8d69-d59119faa06d          4528  \n",
       "d936fe88-32a8-4c4b-82d4-fcfa951f2fb4           809  \n",
       "d4add851-ac47-4bf2-9b16-753c939e2ebd           822  \n",
       "8c45eacf-22b0-4345-acfc-f5d212062d4a           833  \n",
       "53cac372-b933-4010-9fcf-5b63fdb0c1cf           840  "
      ]
     },
     "execution_count": 6,
     "metadata": {},
     "output_type": "execute_result"
    }
   ],
   "source": [
    "df = pd.DataFrame(\n",
    "    [\n",
    "        {\n",
    "            \"name\": run.name,\n",
    "            \"model\": run.extra[\"invocation_params\"][\n",
    "                \"model\"\n",
    "            ],\n",
    "            **run.inputs,\n",
    "            **(run.outputs or {}),\n",
    "            \"error\": run.error,\n",
    "            \"latency\": (run.end_time - run.start_time).total_seconds()\n",
    "            if run.end_time\n",
    "            else None, \n",
    "            \"prompt_tokens\": run.prompt_tokens,\n",
    "            \"completion_tokens\": run.completion_tokens,\n",
    "            \"total_tokens\": run.total_tokens,\n",
    "        }\n",
    "        for run in runs\n",
    "    ],\n",
    "    index=[run.id for run in runs],\n",
    ")\n",
    "\n",
    "df.head(5)"
   ]
  },
  {
   "cell_type": "code",
   "execution_count": 5,
   "metadata": {},
   "outputs": [
    {
     "data": {
      "text/plain": [
       "(347, 12)"
      ]
     },
     "execution_count": 5,
     "metadata": {},
     "output_type": "execute_result"
    }
   ],
   "source": [
    "df.shape"
   ]
  },
  {
   "cell_type": "code",
   "execution_count": null,
   "metadata": {},
   "outputs": [
    {
     "data": {
      "text/plain": [
       "Text(0, 0.5, 'Frequency')"
      ]
     },
     "execution_count": 46,
     "metadata": {},
     "output_type": "execute_result"
    },
    {
     "data": {
      "image/png": "[encoded data removed]",
      "text/plain": [
       "<Figure size 1600x400 with 2 Axes>"
      ]
     },
     "metadata": {},
     "output_type": "display_data"
    }
   ],
   "source": [
    "sns.set_style(\"white\")\n",
    "\n",
    "plt.figure(figsize=(16, 4))\n",
    "plt.subplot(1, 2, 1)\n",
    "sns.histplot(\n",
    "    data=df,\n",
    "    x=\"total_tokens\",\n",
    "    kde=False,\n",
    "    bins=15,\n",
    "    color=sns.color_palette(\"viridis\", as_cmap=True)(0.5),\n",
    "    edgecolor='black',\n",
    "    linewidth=1\n",
    ")\n",
    "plt.title(\"Distribution of Tokens\", fontsize=12)\n",
    "plt.xlabel(\"Total Tokens\", fontsize=10)\n",
    "plt.ylabel(\"Frequency\", fontsize=10)\n",
    "\n",
    "plt.subplot(1, 2, 2)\n",
    "sns.histplot(\n",
    "    data=df,\n",
    "    x=\"latency\",\n",
    "    kde=False,\n",
    "    bins=15,\n",
    "    color=sns.color_palette(\"viridis\", as_cmap=True)(0.5),\n",
    "    edgecolor='black',\n",
    "    linewidth=1\n",
    ")\n",
    "plt.title(\"Distribution of Latency\", fontsize=12)\n",
    "plt.xlabel(\"Latency (seconds)\", fontsize=10)\n",
    "plt.ylabel(\"Frequency\", fontsize=10)"
   ]
  },
  {
   "cell_type": "code",
   "execution_count": 18,
   "metadata": {},
   "outputs": [],
   "source": [
    "df.to_csv(\"logs.csv\", index=False)"
   ]
  }
 ],
 "metadata": {
  "kernelspec": {
   "display_name": ".venv",
   "language": "python",
   "name": "python3"
  },
  "language_info": {
   "codemirror_mode": {
    "name": "ipython",
    "version": 3
   },
   "file_extension": ".py",
   "mimetype": "text/x-python",
   "name": "python",
   "nbconvert_exporter": "python",
   "pygments_lexer": "ipython3",
   "version": "3.13.2"
  }
 },
 "nbformat": 4,
 "nbformat_minor": 2
}
