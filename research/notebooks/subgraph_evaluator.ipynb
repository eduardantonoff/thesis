{
 "cells": [
  {
   "cell_type": "markdown",
   "id": "a290a9fe",
   "metadata": {},
   "source": [
    "### Evaluator\n",
    "\n",
    "This notebook implements an LLM-based assessment generation module.\n",
    "\n",
    "The pipeline creates personalized assessments by:\n",
    "\n",
    "1. Planning an assessment structure based on a topic and user profile;\n",
    "2. Generating evaluation content for each step;\n",
    "3. Storing user's answers for future evaluation;\n",
    "4. Replanning after assessment disclosure based on progress."
   ]
  },
  {
   "cell_type": "markdown",
   "id": "1970a738",
   "metadata": {},
   "source": [
    "#### Setup and Imports"
   ]
  },
  {
   "cell_type": "code",
   "execution_count": 1,
   "id": "9ae21fab",
   "metadata": {},
   "outputs": [],
   "source": [
    "import os\n",
    "import operator\n",
    "from typing import Annotated, Tuple, Union, TypedDict\n",
    "from dotenv import load_dotenv\n",
    "from pydantic import BaseModel, Field\n",
    "from langchain.embeddings import init_embeddings\n",
    "from langchain.chat_models import init_chat_model\n",
    "from langchain.prompts import ChatPromptTemplate\n",
    "from langgraph.types import Command, interrupt\n",
    "from langgraph.store.memory import InMemoryStore\n",
    "from langgraph.checkpoint.memory import MemorySaver\n",
    "from langgraph.graph import START, END, StateGraph"
   ]
  },
  {
   "cell_type": "markdown",
   "id": "cb829c01",
   "metadata": {},
   "source": [
    "#### Environment Configuration"
   ]
  },
  {
   "cell_type": "code",
   "execution_count": 2,
   "id": "99cdb398",
   "metadata": {},
   "outputs": [
    {
     "data": {
      "text/plain": [
       "True"
      ]
     },
     "execution_count": 2,
     "metadata": {},
     "output_type": "execute_result"
    }
   ],
   "source": [
    "load_dotenv(override = True)"
   ]
  },
  {
   "cell_type": "code",
   "execution_count": 3,
   "id": "6f3a7b7b",
   "metadata": {},
   "outputs": [],
   "source": [
    "THREAD = os.getenv(\"THREAD\")\n",
    "USER_ID = os.getenv(\"USER_ID\")\n",
    "OPENAI_CHAT_MODEL = os.getenv(\"OPENAI_CHAT_MODEL\")\n",
    "OPENAI_EMBED_MODEL = os.getenv(\"OPENAI_EMBED_MODEL\")\n",
    "OPENAI_API_PROXY = os.getenv(\"OPENAI_API_PROXY\")\n",
    "BASE_URL = os.getenv(\"BASE_URL\")"
   ]
  },
  {
   "cell_type": "code",
   "execution_count": 4,
   "id": "3744d952",
   "metadata": {},
   "outputs": [],
   "source": [
    "llm = init_chat_model(api_key = OPENAI_API_PROXY, base_url = BASE_URL, model = OPENAI_CHAT_MODEL)"
   ]
  },
  {
   "cell_type": "code",
   "execution_count": 5,
   "id": "851196f9",
   "metadata": {},
   "outputs": [],
   "source": [
    "memory = MemorySaver()"
   ]
  },
  {
   "cell_type": "code",
   "execution_count": null,
   "id": "586d5a76",
   "metadata": {},
   "outputs": [],
   "source": [
    "embeddings = init_embeddings(api_key = OPENAI_API_PROXY, base_url = BASE_URL, model = OPENAI_EMBED_MODEL)"
   ]
  },
  {
   "cell_type": "code",
   "execution_count": 7,
   "id": "520c5991",
   "metadata": {},
   "outputs": [],
   "source": [
    "store = InMemoryStore(index = {\"embed\": embeddings,\"dims\": 1536, \"fields\": [\"memory\", \"type\"]})"
   ]
  },
  {
   "cell_type": "code",
   "execution_count": 8,
   "id": "8a8d7d0e",
   "metadata": {},
   "outputs": [],
   "source": [
    "CONFIG = {'configurable': {'thread_id': THREAD, 'recursion_limit': 5, \"user_id\": USER_ID}}"
   ]
  },
  {
   "cell_type": "markdown",
   "id": "b0462d3b",
   "metadata": {},
   "source": [
    "#### Structured Output Models"
   ]
  },
  {
   "cell_type": "code",
   "execution_count": 9,
   "id": "be4dfc9a",
   "metadata": {},
   "outputs": [],
   "source": [
    "class EvalExecute(TypedDict):\n",
    "    \"\"\"Structure for tracking and executing evaluation process.\"\"\"\n",
    "    input: str\n",
    "    evaluations: list[str]\n",
    "    past_evals: Annotated[list[Tuple], operator.add]\n",
    "    evaluation_object: Annotated[list[Tuple], operator.add]\n",
    "    answer: Annotated[list[Tuple], operator.add]\n",
    "    sheet: str"
   ]
  },
  {
   "cell_type": "code",
   "execution_count": 10,
   "id": "372543fb",
   "metadata": {},
   "outputs": [],
   "source": [
    "class Eval(BaseModel):\n",
    "    \"\"\"Represents a single evaluation item.\"\"\"\n",
    "    title: str = Field(description=\"Concise title for the evaluation (3-7 words)\")\n",
    "    description: str = Field(description=\"Detailed description explaining the purpose and focus of this evaluation\")"
   ]
  },
  {
   "cell_type": "code",
   "execution_count": 11,
   "id": "df7ace47",
   "metadata": {},
   "outputs": [],
   "source": [
    "class Evaluations(BaseModel):\n",
    "    \"\"\"Collection of ordered evaluation items.\"\"\"\n",
    "    evals: list[Eval] = Field(description=\"Sequential list of evaluations that assess learning progress\")"
   ]
  },
  {
   "cell_type": "code",
   "execution_count": 12,
   "id": "0755a3fd",
   "metadata": {},
   "outputs": [],
   "source": [
    "class EvalObject(BaseModel):\n",
    "    \"\"\"Specific evaluation content presented to the learner.\"\"\"\n",
    "    title: str = Field(description=\"Clear, descriptive title that identifies the evaluation item\")\n",
    "    content: str = Field(description=\"The actual evaluation content (question, multiple choice, code exercise, etc.)\")\n",
    "    evaluation_criteria: list[str] = Field(description=\"Specific learning objectives this evaluation assesses\")\n"
   ]
  },
  {
   "cell_type": "code",
   "execution_count": 13,
   "id": "13c31ffd",
   "metadata": {},
   "outputs": [],
   "source": [
    "class Report(BaseModel):\n",
    "    \"\"\"Final summary of the assessment session.\"\"\"\n",
    "    report: str = Field(..., description = \"Say: Assessment is over. Below are the QA's.\")"
   ]
  },
  {
   "cell_type": "code",
   "execution_count": 14,
   "id": "22df76ba",
   "metadata": {},
   "outputs": [],
   "source": [
    "class ActE(BaseModel):\n",
    "    \"\"\"Decision point for continuing assessment or concluding the evaluation flow.\"\"\"\n",
    "    action: Union[Report, Evaluations] = Field(\n",
    "        description=\"Select either Evaluations (to continue with more assessment items) or Report (to finalize the evaluation process)\"\n",
    "    )"
   ]
  },
  {
   "cell_type": "markdown",
   "id": "36f0d893",
   "metadata": {},
   "source": [
    "#### Prompts"
   ]
  },
  {
   "cell_type": "code",
   "execution_count": 15,
   "id": "e997fa9a",
   "metadata": {},
   "outputs": [],
   "source": [
    "mapper_ = \"\"\"\n",
    "    You are a Learning Experience Designer specializing in assessments.\n",
    "    Your goal is to create structured evaluations with these characteristics:\n",
    "        - Focused assessment items that evaluate distinct aspects of learning  (3-5 total)\n",
    "        - Directly aligned with the provided lesson content\n",
    "        - Clear evaluation criteria for each assessment item\n",
    "        - No overlapping content between assessment items\n",
    "    \"\"\""
   ]
  },
  {
   "cell_type": "code",
   "execution_count": 16,
   "id": "fc48fe6b",
   "metadata": {},
   "outputs": [],
   "source": [
    "assessor_ = \"\"\"\n",
    "    You are an expert assessment designer.\n",
    "    Create a precise 'EvalObject' with these characteristics:\n",
    "        - Focused, well-structured evaluation content\n",
    "        - Specific evaluation criteria that align with learning objectives\n",
    "    \"\"\""
   ]
  },
  {
   "cell_type": "code",
   "execution_count": 17,
   "id": "0aec7ec4",
   "metadata": {},
   "outputs": [],
   "source": [
    "remapper_ = mapper_ + \"\"\"\n",
    "    Evaluate assessment progress and determine next action:\n",
    "    \n",
    "    Lesson: {input}\n",
    "    Original Evaluations: {evaluations}\n",
    "    Completed Evaluations: {past_evals}\n",
    "\n",
    "    Take one of these actions:\n",
    "    - If both evaluation items are completed: Provide a Sheet with the assessment results\n",
    "    - Otherwise: Update the evaluations with ONLY remaining items, maintaining original detail level\n",
    "    \n",
    "    Do not repeat previously completed evaluations nor create new items that were not present before.\n",
    "    \"\"\""
   ]
  },
  {
   "cell_type": "code",
   "execution_count": 18,
   "id": "97d0a403",
   "metadata": {},
   "outputs": [],
   "source": [
    "mapper_prompt = ChatPromptTemplate.from_messages([(\"system\", mapper_),(\"placeholder\", \"{messages}\")])\n",
    "mapper = mapper_prompt | llm.with_structured_output(Evaluations)"
   ]
  },
  {
   "cell_type": "code",
   "execution_count": 19,
   "id": "9bc8939e",
   "metadata": {},
   "outputs": [],
   "source": [
    "assessment_prompt = ChatPromptTemplate.from_messages([(\"system\", assessor_), (\"placeholder\", \"{messages}\")])\n",
    "assessment = assessment_prompt | llm.with_structured_output(EvalObject)"
   ]
  },
  {
   "cell_type": "code",
   "execution_count": 20,
   "id": "3561553b",
   "metadata": {},
   "outputs": [],
   "source": [
    "remapper_prompt = ChatPromptTemplate.from_template(remapper_)\n",
    "remapper = remapper_prompt | llm.with_structured_output(ActE)"
   ]
  },
  {
   "cell_type": "markdown",
   "id": "3e32622e",
   "metadata": {},
   "source": [
    "#### LangGraph Nodes"
   ]
  },
  {
   "cell_type": "code",
   "execution_count": 21,
   "id": "14e2c711",
   "metadata": {},
   "outputs": [],
   "source": [
    "def execute_eval(state: EvalExecute):\n",
    "    evaluations = state[\"evaluations\"]\n",
    "    current_eval = evaluations[0]\n",
    "    eval_str = \"\\n\".join(f\"{i+1}. {eval}\" for i, eval in enumerate(evaluations, start=1))\n",
    "    prompt = f\"\"\"Given this learning session content {state['input']}\\n\\n, \n",
    "                 and evaluation plan:\\n{eval_str}\\n\\nYou are tasked with executing evaluation {1}: {current_eval}.\n",
    "                 Questions / tasks must directly allign with the learning session content.\"\"\"\n",
    "    result = assessment.invoke({\"messages\": [(\"user\", prompt)]})\n",
    "    return {\"past_evals\": [current_eval], \"evaluation_object\": [result]}\n",
    "\n",
    "def plan_eval(state: EvalExecute):\n",
    "    evaluations = mapper.invoke({\"messages\": [(\"user\", state[\"input\"])]})\n",
    "    return {\"evaluations\": evaluations.evals}\n",
    "\n",
    "def remap_eval(state: EvalExecute):\n",
    "    output = remapper.invoke(state)\n",
    "    formatted_list = []\n",
    "    for i, eval_obj in enumerate(state['evaluation_object'], 1):\n",
    "        content = eval_obj.content.strip()\n",
    "        formatted_list.append(f\"{i}. {content}\")\n",
    "    prompt = f\"Questions: {str(formatted_list)} | Answers: {str(state['answer'])}\"\n",
    "    return {\"report\": output.action.report + prompt} if isinstance(output.action, Report) else {\"evaluations\": output.action.evals}\n",
    "\n",
    "def assess(state: EvalExecute):\n",
    "    answer = interrupt(\"Please provide your answer: \")\n",
    "    return {\"answer\": [answer]}\n",
    "\n",
    "def should_end(state: EvalExecute):\n",
    "    return END if state.get(\"report\") else \"evaluation_content\""
   ]
  },
  {
   "cell_type": "code",
   "execution_count": 31,
   "id": "0d99ea31",
   "metadata": {},
   "outputs": [],
   "source": [
    "evaluationflow = StateGraph(EvalExecute)\n",
    "\n",
    "evaluationflow.add_node(\"planning\", plan_eval)\n",
    "evaluationflow.add_node(\"evaluation_content\", execute_eval)\n",
    "evaluationflow.add_node(\"replan\", remap_eval)\n",
    "evaluationflow.add_node(\"assessment\", assess)\n",
    "\n",
    "evaluationflow.add_edge(START, \"planning\")\n",
    "evaluationflow.add_edge(\"planning\", \"evaluation_content\")\n",
    "evaluationflow.add_edge(\"evaluation_content\", \"assessment\")\n",
    "evaluationflow.add_edge(\"assessment\", \"replan\")\n",
    "\n",
    "evaluationflow.add_conditional_edges(\"replan\", should_end, [\"evaluation_content\", END])\n",
    "\n",
    "evaluator = evaluationflow.compile(checkpointer = memory)"
   ]
  },
  {
   "cell_type": "code",
   "execution_count": 32,
   "id": "6fd0b376",
   "metadata": {},
   "outputs": [
    {
     "data": {
      "image/png": "[encoded data removed]",
      "text/plain": [
       "<langgraph.graph.state.CompiledStateGraph object at 0x130bb91d0>"
      ]
     },
     "execution_count": 32,
     "metadata": {},
     "output_type": "execute_result"
    }
   ],
   "source": [
    "evaluator"
   ]
  },
  {
   "cell_type": "markdown",
   "id": "1419edd0",
   "metadata": {},
   "source": [
    "#### Test Execution with HITL"
   ]
  },
  {
   "cell_type": "code",
   "execution_count": null,
   "id": "c5d35211",
   "metadata": {},
   "outputs": [],
   "source": [
    "response = evaluator.invoke({\"input\": \"Artificial Intellegence\"}, config = CONFIG)"
   ]
  },
  {
   "cell_type": "code",
   "execution_count": null,
   "id": "59740d1a",
   "metadata": {},
   "outputs": [
    {
     "name": "stdout",
     "output_type": "stream",
     "text": [
      "\n",
      "1. UNDERSTANDING AI BASICS\n",
      "-\n",
      "This assessment focuses on evaluating the student's understanding of the foundational principles and definitions of artificial intelligence, including types of AI, history, and major milestones. The evaluation will check the student's ability to describe what AI is and identify key developments that have shaped the field.\n",
      "\n",
      "2. MACHINE LEARNING CONCEPTS\n",
      "-\n",
      "This evaluation is designed to assess the student's grasp of machine learning concepts within AI, such as supervised vs unsupervised learning, algorithms, and pivotal technologies. The aim is to ensure the student can explain these concepts and differentiate between the various types of machine learning processes.\n",
      "\n",
      "3. AI APPLICATIONS IN REAL WORLD\n",
      "-\n",
      "This assessment evaluates the student's knowledge of how AI is applied in different industries and everyday scenarios. The student will be asked to identify real-world applications of AI, discussing their impact and the benefits they provide to fields like healthcare, transportation, and data analysis.\n",
      "\n",
      "4. ETHICAL IMPLICATIONS OF AI\n",
      "-\n",
      "This evaluation focuses on the student's ability to articulate the ethical considerations and debates surrounding the use of AI. Topics include privacy concerns, bias in AI systems, and the broader societal implications. The goal is to assess the student's critical thinking about the balance between AI advancement and ethical usage.\n",
      "\n",
      "5. FUTURE TRENDS IN AI TECHNOLOGY\n",
      "-\n",
      "This assessment evaluates the student's understanding of upcoming trends and future potential of AI technologies. Students will discuss innovations on the horizon, like quantum AI and the potential for artificial general intelligence, and interpret how these advancements might shape the future landscape of AI.\n"
     ]
    }
   ],
   "source": [
    "for i, item in enumerate(response['evaluations'], start=1):\n",
    "    print(f\"\\n{i}. {item.title.upper()}\")\n",
    "    print(\"-\")\n",
    "    print(f\"{item.description}\")"
   ]
  },
  {
   "cell_type": "code",
   "execution_count": null,
   "id": "fd8a3997",
   "metadata": {},
   "outputs": [
    {
     "name": "stdout",
     "output_type": "stream",
     "text": [
      "1. Define Artificial Intelligence and briefly describe its primary goal. \n",
      "2. List and explain the different types of AI (e.g., Narrow AI, General AI, Strong AI) and provide an example of each type.\n",
      "3. Outline the key historical milestones in the development of AI from inception to present day, highlighting significant breakthroughs.\n",
      "4. Discuss the significance of the Turing Test in the evolution of AI.\n",
      "5. Describe a major AI milestone in the past decade and explain its impact on the field of AI.\n"
     ]
    }
   ],
   "source": [
    "print(response['evaluation_object'][0].content)"
   ]
  },
  {
   "cell_type": "code",
   "execution_count": null,
   "id": "c9b55f6d",
   "metadata": {},
   "outputs": [],
   "source": [
    "response = evaluator.invoke(Command(resume = \"continue\"), config = CONFIG)"
   ]
  },
  {
   "cell_type": "code",
   "execution_count": null,
   "id": "eedf7efd",
   "metadata": {},
   "outputs": [
    {
     "name": "stdout",
     "output_type": "stream",
     "text": [
      "continue\n"
     ]
    }
   ],
   "source": [
    "print(response['answer'][0])"
   ]
  },
  {
   "cell_type": "code",
   "execution_count": null,
   "id": "d5b25c23",
   "metadata": {},
   "outputs": [
    {
     "name": "stdout",
     "output_type": "stream",
     "text": [
      "\n",
      "1. MACHINE LEARNING CONCEPTS\n",
      "-\n",
      "This evaluation is designed to assess the student's grasp of machine learning concepts within AI, such as supervised vs unsupervised learning, algorithms, and pivotal technologies. The aim is to ensure the student can explain these concepts and differentiate between the various types of machine learning processes.\n",
      "\n",
      "2. AI APPLICATIONS IN REAL WORLD\n",
      "-\n",
      "This assessment evaluates the student's knowledge of how AI is applied in different industries and everyday scenarios. The student will be asked to identify real-world applications of AI, discussing their impact and the benefits they provide to fields like healthcare, transportation, and data analysis.\n",
      "\n",
      "3. ETHICAL IMPLICATIONS OF AI\n",
      "-\n",
      "This evaluation focuses on the student's ability to articulate the ethical considerations and debates surrounding the use of AI. Topics include privacy concerns, bias in AI systems, and the broader societal implications. The goal is to assess the student's critical thinking about the balance between AI advancement and ethical usage.\n",
      "\n",
      "4. FUTURE TRENDS IN AI TECHNOLOGY\n",
      "-\n",
      "This assessment evaluates the student's understanding of upcoming trends and future potential of AI technologies. Students will discuss innovations on the horizon, like quantum AI and the potential for artificial general intelligence, and interpret how these advancements might shape the future landscape of AI.\n"
     ]
    }
   ],
   "source": [
    "for i, item in enumerate(response['evaluations'], start=1):\n",
    "    print(f\"\\n{i}. {item.title.upper()}\")\n",
    "    print(\"-\")\n",
    "    print(f\"{item.description}\")"
   ]
  },
  {
   "cell_type": "code",
   "execution_count": null,
   "id": "8c02b3b0",
   "metadata": {},
   "outputs": [
    {
     "name": "stdout",
     "output_type": "stream",
     "text": [
      "1. Define Artificial Intelligence and briefly describe its primary goal. \n",
      "2. List and explain the different types of AI (e.g., Narrow AI, General AI, Strong AI) and provide an example of each type.\n",
      "3. Outline the key historical milestones in the development of AI from inception to present day, highlighting significant breakthroughs.\n",
      "4. Discuss the significance of the Turing Test in the evolution of AI.\n",
      "5. Describe a major AI milestone in the past decade and explain its impact on the field of AI.\n"
     ]
    }
   ],
   "source": [
    "print(response['evaluation_object'][0].content)"
   ]
  }
 ],
 "metadata": {
  "kernelspec": {
   "display_name": ".venv",
   "language": "python",
   "name": "python3"
  },
  "language_info": {
   "codemirror_mode": {
    "name": "ipython",
    "version": 3
   },
   "file_extension": ".py",
   "mimetype": "text/x-python",
   "name": "python",
   "nbconvert_exporter": "python",
   "pygments_lexer": "ipython3",
   "version": "3.13.2"
  }
 },
 "nbformat": 4,
 "nbformat_minor": 5
}
