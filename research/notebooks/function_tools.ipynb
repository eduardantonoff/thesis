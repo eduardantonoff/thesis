{
 "cells": [
  {
   "cell_type": "code",
   "execution_count": null,
   "metadata": {},
   "outputs": [],
   "source": [
    "import os\n",
    "import re\n",
    "import json\n",
    "import uuid\n",
    "from dotenv import load_dotenv\n",
    "from langchain.embeddings import init_embeddings\n",
    "from langgraph.store.memory import InMemoryStore"
   ]
  },
  {
   "cell_type": "code",
   "execution_count": 19,
   "metadata": {},
   "outputs": [
    {
     "data": {
      "text/plain": [
       "True"
      ]
     },
     "execution_count": 19,
     "metadata": {},
     "output_type": "execute_result"
    }
   ],
   "source": [
    "load_dotenv(override=True)"
   ]
  },
  {
   "cell_type": "code",
   "execution_count": 20,
   "metadata": {},
   "outputs": [],
   "source": [
    "THREAD = os.getenv('THREAD')\n",
    "USER_ID = os.getenv('USER_ID')\n",
    "GRAPH_PATH = os.getenv('GRAPH_PATH')\n",
    "BASE_URL = os.getenv('BASE_URL')\n",
    "OPENAI_CHAT_MODEL = os.getenv('OPENAI_CHAT_MODEL')\n",
    "OPENAI_EMBED_MODEL = os.getenv('OPENAI_EMBED_MODEL')\n",
    "OPENAI_API_PROXY = os.getenv('OPENAI_API_PROXY')"
   ]
  },
  {
   "cell_type": "code",
   "execution_count": 21,
   "metadata": {},
   "outputs": [],
   "source": [
    "embeddings = init_embeddings(api_key=OPENAI_API_PROXY, base_url=BASE_URL, model=OPENAI_EMBED_MODEL)\n",
    "\n",
    "store = InMemoryStore(index={\"embed\": embeddings, \"dims\": 1536, \"fields\": [\"memory\", \"type\"]})"
   ]
  },
  {
   "cell_type": "code",
   "execution_count": 22,
   "metadata": {},
   "outputs": [],
   "source": [
    "CONFIG = {'configurable': {'thread_id': THREAD, 'recursion_limit': 3, \"user_id\": USER_ID}}\n",
    "\n",
    "with open(GRAPH_PATH, \"r\") as f:\n",
    "    graph_data = json.load(f)"
   ]
  },
  {
   "cell_type": "code",
   "execution_count": 23,
   "metadata": {},
   "outputs": [],
   "source": [
    "def get_user_namespace(config=CONFIG):\n",
    "    \"\"\"Get user namespace tuple for store operations.\"\"\"\n",
    "    user_id = config.get(\"configurable\", {}).get(\"user_id\")\n",
    "    if not user_id:\n",
    "        raise ValueError(\"User ID not found in configuration.\")\n",
    "    return (user_id, \"profile\")\n",
    "\n",
    "def validate_profile_type(profile_type):\n",
    "    \"\"\"Validate profile type against allowed values.\"\"\"\n",
    "    VALID_PROFILE_TYPES = {\"name\", \"interests\", \"preferences\", \"goals\"}\n",
    "    if profile_type not in VALID_PROFILE_TYPES:\n",
    "        raise ValueError(\n",
    "            f\"Invalid profile_type: '{profile_type}'. Valid types are: {', '.join(VALID_PROFILE_TYPES)}.\"\n",
    "        )\n",
    "    return True\n",
    "\n",
    "def validate_concept_id(concept_id):\n",
    "    \"\"\"Validates concept ID format.\n",
    "    \n",
    "    Args:\n",
    "        concept_id (str): The ID to validate\n",
    "        \n",
    "    Returns:\n",
    "        tuple: (is_valid, error_message)\n",
    "    \"\"\"\n",
    "    if not isinstance(concept_id, str):\n",
    "        return False, \"Error: Invalid concept ID type. Must be a string.\"\n",
    "    \n",
    "    pattern = re.compile(r'^[A-Z]\\.\\d+$')\n",
    "    if not pattern.match(concept_id):\n",
    "        return False, (\"Error: Invalid concept ID format. \"\n",
    "                      \"The correct format is a single uppercase letter followed by a dot and a number (e.g., 'A.1').\")\n",
    "    \n",
    "    return True, None\n",
    "\n",
    "def load_graph_data(path):\n",
    "    \"\"\"Loads and validates graph data from a JSON file.\n",
    "    \n",
    "    Args:\n",
    "        path (str): Path to the JSON file\n",
    "        \n",
    "    Returns:\n",
    "        tuple: (data, error_message)\n",
    "    \"\"\"\n",
    "    if not os.path.exists(path):\n",
    "        return None, f\"Error: File '{path}' does not exist.\"\n",
    "    \n",
    "    try:\n",
    "        with open(path, \"r\") as f:\n",
    "            data = json.load(f)\n",
    "    except json.JSONDecodeError as jde:\n",
    "        return None, f\"Error reading JSON from '{path}': {jde}\"\n",
    "    except Exception as e:\n",
    "        return None, f\"Error opening '{path}': {e}\"\n",
    "    \n",
    "    if \"concepts\" not in data:\n",
    "        return None, \"Error: 'concepts' key not found in the JSON data.\"\n",
    "    \n",
    "    return data, None"
   ]
  },
  {
   "cell_type": "code",
   "execution_count": 24,
   "metadata": {},
   "outputs": [],
   "source": [
    "def store_profile(content: str, profile_type: str,  config = CONFIG, store = store):\n",
    "    \"\"\"Stores a user profile attribute in the database.\n",
    "    \n",
    "    Args:\n",
    "        content (str): The value of the profile attribute to store\n",
    "        profile_type (str): The category or type of the profile attribute.  \n",
    "                            Valid types include: \"name\", \"interests\", \"preferences\", \"goals\".\n",
    "\n",
    "    Returns:\n",
    "        str: A confirmation message indicating the successfully stored content and its unique identifier (UUID).\n",
    "    \n",
    "    Raises:\n",
    "        ValueError: If an invalid `profile_type` is provided.  \n",
    "    \"\"\"\n",
    "    VALID_PROFILE_TYPES = {\"name\", \"interests\", \"preferences\", \"goals\"}\n",
    "\n",
    "    if profile_type not in VALID_PROFILE_TYPES:\n",
    "        raise ValueError(\n",
    "            f\"Invalid profile_type: '{profile_type}'. Valid types are: {', '.join(VALID_PROFILE_TYPES)}.\"\n",
    "        )\n",
    "\n",
    "    user_id = config.get(\"configurable\", {}).get(\"user_id\")\n",
    "    if not user_id:\n",
    "        raise ValueError(\"User ID not found in configuration.\")\n",
    "\n",
    "    namespace = (user_id, \"profile\")\n",
    "    memory_id = str(uuid.uuid4())\n",
    "    \n",
    "    store.put(\n",
    "        namespace,\n",
    "        key=memory_id,\n",
    "        value={\"memory\": content, \"type\": profile_type},\n",
    "        index=False\n",
    "    )\n",
    "    \n",
    "    return f\"Stored information: '{content}' | ID: {memory_id}\""
   ]
  },
  {
   "cell_type": "code",
   "execution_count": 25,
   "metadata": {},
   "outputs": [],
   "source": [
    "import functools\n",
    "\n",
    "@functools.lru_cache(maxsize=8)\n",
    "def get_graph_data(path=GRAPH_PATH):\n",
    "    \"\"\"Load and cache graph data to avoid repeated file I/O.\"\"\"\n",
    "    if not os.path.exists(path):\n",
    "        return None, f\"Error: File '{path}' does not exist.\"\n",
    "    \n",
    "    try:\n",
    "        with open(path, \"r\") as f:\n",
    "            data = json.load(f)\n",
    "    except json.JSONDecodeError as jde:\n",
    "        return None, f\"Error reading JSON from '{path}': {jde}\"\n",
    "    except Exception as e:\n",
    "        return None, f\"Error opening '{path}': {e}\"\n",
    "    \n",
    "    if \"concepts\" not in data:\n",
    "        return None, \"Error: 'concepts' key not found in the JSON data.\"\n",
    "    \n",
    "    return data, None"
   ]
  },
  {
   "cell_type": "code",
   "execution_count": 26,
   "metadata": {},
   "outputs": [],
   "source": [
    "def store_profile(content: str, profile_type: str, config=CONFIG, store=store):\n",
    "    \"\"\"Stores a user profile attribute in the database with improved error handling.\"\"\"\n",
    "    try:\n",
    "        validate_profile_type(profile_type)\n",
    "        namespace = get_user_namespace(config)\n",
    "        \n",
    "        memory_id = str(uuid.uuid4())\n",
    "        store.put(\n",
    "            namespace,\n",
    "            key=memory_id,\n",
    "            value={\"memory\": content, \"type\": profile_type},\n",
    "            index=False\n",
    "        )\n",
    "        \n",
    "        return f\"Stored information: '{content}' | ID: {memory_id}\"\n",
    "    except ValueError as e:\n",
    "        return f\"Error: {str(e)}\"\n",
    "\n",
    "def retrieve_profile(profile_type: str, config=CONFIG, store=store):\n",
    "    \"\"\"Optimized profile retrieval with better error handling.\"\"\"\n",
    "    try:\n",
    "        validate_profile_type(profile_type)\n",
    "        namespace = get_user_namespace(config)\n",
    "        \n",
    "        results = store.search(namespace, filter={\"type\": profile_type})\n",
    "        return [\n",
    "            {\"content\": item.value.get(\"memory\", \"\"), \"id\": item.key}\n",
    "            for item in results\n",
    "        ]\n",
    "    except ValueError as e:\n",
    "        return f\"Error: {str(e)}\"\n",
    "\n",
    "def delete_profile(key: str, config=CONFIG, store=store):\n",
    "    \"\"\"Optimized profile deletion with consistent error handling.\"\"\"\n",
    "    try:\n",
    "        namespace = get_user_namespace(config)\n",
    "        success = store.delete(namespace, key)\n",
    "        \n",
    "        if success:\n",
    "            return f\"Profile entry with ID {key} has been successfully deleted.\"\n",
    "        else:\n",
    "            return f\"Error: No profile entry found with ID {key}.\"\n",
    "    except ValueError as e:\n",
    "        return f\"Error: {str(e)}\"\n",
    "    except Exception as e:\n",
    "        return f\"An error occurred while deleting the profile entry: {str(e)}\""
   ]
  },
  {
   "cell_type": "code",
   "execution_count": 27,
   "metadata": {},
   "outputs": [],
   "source": [
    "def retrieve_sections(section_letter: str, data: dict = graph_data):\n",
    "    \"\"\"Optimized section retrieval with consistent validation.\"\"\"\n",
    "    if data is None:\n",
    "        return \"Error: 'data' dictionary not provided.\"\n",
    "        \n",
    "    if not isinstance(section_letter, str) or not section_letter.isalpha() or len(section_letter) != 1:\n",
    "        return \"Error: Invalid section letter. Must be a single alphabet character.\"\n",
    "        \n",
    "    if \"concepts\" not in data:\n",
    "        return \"Error: 'concepts' key not found in the data dictionary.\"\n",
    "\n",
    "    # Use list comprehension for better efficiency\n",
    "    return [\n",
    "        {\"id\": concept_id, \"label\": concept_info[\"label\"]}\n",
    "        for concept_id, concept_info in data[\"concepts\"].items()\n",
    "        if concept_info[\"section\"] == section_letter\n",
    "    ]\n",
    "\n",
    "def retrieve_concept(concept_id: str, data: dict = None):\n",
    "    \"\"\"Optimized concept retrieval with caching support.\"\"\"\n",
    "    if data is None:\n",
    "        data, error = get_graph_data()\n",
    "        if error:\n",
    "            return error\n",
    "    \n",
    "    if not isinstance(concept_id, str):\n",
    "        return \"Error: Invalid concept ID. Must be a string.\"\n",
    "        \n",
    "    if \"concepts\" not in data:\n",
    "        return \"Error: 'concepts' key not found in the data dictionary.\"\n",
    "\n",
    "    concept = data[\"concepts\"].get(concept_id)\n",
    "    return concept if concept else f\"Error: Concept with ID '{concept_id}' not found.\"\n",
    "\n",
    "def update_concept_status(concept_id: str, new_status: str, path: str = GRAPH_PATH):\n",
    "    \"\"\"Optimized status update using utility functions.\"\"\"\n",
    "    ALLOWED_STATUSES = {\"mastery\", \"unlearned\", \"awareness\"}\n",
    "    \n",
    "    valid, error = validate_concept_id(concept_id)\n",
    "    if not valid:\n",
    "        return error\n",
    "    \n",
    "    if not isinstance(new_status, str):\n",
    "        return \"Error: Invalid status type. Must be a string.\"\n",
    "        \n",
    "    if new_status not in ALLOWED_STATUSES:\n",
    "        return f\"Error: Invalid status '{new_status}'. Allowed statuses are: {', '.join(sorted(ALLOWED_STATUSES))}.\"\n",
    "    \n",
    "    data, error = get_graph_data(path)\n",
    "    if error:\n",
    "        return error\n",
    "    \n",
    "    if concept_id in data[\"concepts\"]:\n",
    "        current_status = data[\"concepts\"][concept_id].get(\"status\", \"undefined\")\n",
    "        if current_status == new_status:\n",
    "            return f\"No update needed: Concept '{concept_id}' is already set to '{new_status}'.\"\n",
    "            \n",
    "        data[\"concepts\"][concept_id][\"status\"] = new_status\n",
    "        \n",
    "        try:\n",
    "            with open(path, \"w\") as f:\n",
    "                json.dump(data, f, indent=4)\n",
    "            get_graph_data.cache_clear()\n",
    "            return f\"Success: Status of concept '{concept_id}' updated from '{current_status}' to '{new_status}'.\"\n",
    "        except Exception as e:\n",
    "            return f\"Error saving changes to '{path}': {e}\"\n",
    "    else:\n",
    "        return f\"Error: Concept with ID '{concept_id}' not found.\"\n",
    "\n",
    "def knowledge_state(path: str = GRAPH_PATH):\n",
    "    \"\"\"Optimized knowledge state using cached data access.\"\"\"\n",
    "    data, error = get_graph_data(path)\n",
    "    if error:\n",
    "        return error\n",
    "    \n",
    "    concepts_with_status = [\n",
    "        {\n",
    "            \"ID\": cid,\n",
    "            \"Label\": details.get(\"label\", \"N/A\"),\n",
    "            \"Status\": details.get(\"status\", \"N/A\")\n",
    "        }\n",
    "        for cid, details in data[\"concepts\"].items()\n",
    "        if details.get(\"status\")\n",
    "    ]\n",
    "    \n",
    "    if not concepts_with_status:\n",
    "        return \"No concepts with a non-empty status found.\"\n",
    "    \n",
    "    concepts_with_status.sort(key=lambda x: x[\"ID\"])\n",
    "    return \"\\n\".join(f\"{c['ID']} {c['Label']} is {c['Status']}\" for c in concepts_with_status)\n",
    "\n",
    "def get_prerequisites(concept_id: str, path: str = GRAPH_PATH):\n",
    "    \"\"\"Optimized prerequisites retrieval using cached data access.\"\"\"\n",
    "    valid, error = validate_concept_id(concept_id)\n",
    "    if not valid:\n",
    "        return error\n",
    "    \n",
    "    data, error = get_graph_data(path)\n",
    "    if error:\n",
    "        return error\n",
    "    \n",
    "    if concept_id not in data[\"concepts\"]:\n",
    "        return f\"Error: Concept with ID '{concept_id}' not found.\"\n",
    "    \n",
    "    prerequisites_ids = data[\"concepts\"][concept_id].get(\"prerequisites\", [])\n",
    "    if not prerequisites_ids:\n",
    "        return f\"Concept '{concept_id}' has no prerequisites.\"\n",
    "    \n",
    "    prerequisites = []\n",
    "    missing_prereqs = []\n",
    "    \n",
    "    for pid in prerequisites_ids:\n",
    "        prereq = data[\"concepts\"].get(pid)\n",
    "        if prereq:\n",
    "            prerequisites.append({\"ID\": pid, \"Label\": prereq.get(\"label\", \"N/A\")})\n",
    "        else:\n",
    "            missing_prereqs.append(pid)\n",
    "    \n",
    "    output = [f\"Prerequisites for Concept '{concept_id}':\"]\n",
    "    output.extend(f\" - {p['ID']}: {p['Label']}\" for p in prerequisites)\n",
    "    \n",
    "    if missing_prereqs:\n",
    "        output.append(\"\\nWarning: The following prerequisite IDs were not found in the data:\")\n",
    "        output.extend(f\" - {pid}\" for pid in missing_prereqs)\n",
    "    \n",
    "    return \"\\n\".join(output)"
   ]
  },
  {
   "cell_type": "code",
   "execution_count": 28,
   "metadata": {},
   "outputs": [
    {
     "data": {
      "text/plain": [
       "{'label': 'artificial intelligence',\n",
       " 'content': 'A non-human program or model that can solve sophisticated tasks.\\nFor example, a program or model that translates text or a program or model that\\nidentifies diseases from radiologic images both exhibit artificial intelligence. Formally, machine learning is a sub-field of artificial\\nintelligence. However, in recent years, some organizations have begun using the\\nterms artificial intelligence and machine learning interchangeably.',\n",
       " 'status': 'mastery',\n",
       " 'prerequisites': ['A.3',\n",
       "  'A.7',\n",
       "  'A.14',\n",
       "  'A.20',\n",
       "  'A.28',\n",
       "  'A.30',\n",
       "  'D.3',\n",
       "  'D.20',\n",
       "  'A.19',\n",
       "  'A.32',\n",
       "  'A.35'],\n",
       " 'section': 'A'}"
      ]
     },
     "execution_count": 28,
     "metadata": {},
     "output_type": "execute_result"
    }
   ],
   "source": [
    "retrieve_concept('A.1')"
   ]
  },
  {
   "cell_type": "code",
   "execution_count": 29,
   "metadata": {},
   "outputs": [
    {
     "data": {
      "text/plain": [
       "[{'id': 'A.1', 'label': 'artificial intelligence'},\n",
       " {'id': 'A.2', 'label': 'binary classification'},\n",
       " {'id': 'A.3', 'label': 'classification model'},\n",
       " {'id': 'A.4', 'label': 'classification threshold'},\n",
       " {'id': 'A.5', 'label': 'confusion matrix'},\n",
       " {'id': 'A.6', 'label': 'dataset'},\n",
       " {'id': 'A.7', 'label': 'dynamic model'},\n",
       " {'id': 'A.8', 'label': 'feature'},\n",
       " {'id': 'A.9', 'label': 'hyperparameter'},\n",
       " {'id': 'A.10', 'label': 'inference'},\n",
       " {'id': 'A.11', 'label': 'interpretability'},\n",
       " {'id': 'A.12', 'label': 'label'},\n",
       " {'id': 'A.13', 'label': 'linear '},\n",
       " {'id': 'A.14', 'label': 'linear model'},\n",
       " {'id': 'A.15', 'label': 'linear regression'},\n",
       " {'id': 'A.16', 'label': 'logistic regression'},\n",
       " {'id': 'A.17', 'label': 'loss'},\n",
       " {'id': 'A.18', 'label': 'loss function'},\n",
       " {'id': 'A.19', 'label': 'machine learning'},\n",
       " {'id': 'A.20', 'label': 'model'},\n",
       " {'id': 'A.21', 'label': 'multi-class classification'},\n",
       " {'id': 'A.22', 'label': 'nonlinear '},\n",
       " {'id': 'A.23', 'label': 'nonstationarity'},\n",
       " {'id': 'A.24', 'label': 'offline inference'},\n",
       " {'id': 'A.25', 'label': 'online inference'},\n",
       " {'id': 'A.26', 'label': 'parameter'},\n",
       " {'id': 'A.27', 'label': 'prediction'},\n",
       " {'id': 'A.28', 'label': 'regression model'},\n",
       " {'id': 'A.29', 'label': 'retrieval-augmented generation'},\n",
       " {'id': 'A.30', 'label': 'static model'},\n",
       " {'id': 'A.31', 'label': 'stationarity'},\n",
       " {'id': 'A.32', 'label': 'supervised machine learning'},\n",
       " {'id': 'A.33', 'label': 'training'},\n",
       " {'id': 'A.34', 'label': 'training set'},\n",
       " {'id': 'A.35', 'label': 'unsupervised machine learning'},\n",
       " {'id': 'A.36', 'label': 'validation set'}]"
      ]
     },
     "execution_count": 29,
     "metadata": {},
     "output_type": "execute_result"
    }
   ],
   "source": [
    "retrieve_sections(\"A\")"
   ]
  },
  {
   "cell_type": "code",
   "execution_count": 30,
   "metadata": {},
   "outputs": [
    {
     "data": {
      "text/plain": [
       "\"Error: Invalid status 'o'. Allowed statuses are: awareness, mastery, unlearned.\""
      ]
     },
     "execution_count": 30,
     "metadata": {},
     "output_type": "execute_result"
    }
   ],
   "source": [
    "update_concept_status(\"A.1\", \"o\")"
   ]
  },
  {
   "cell_type": "code",
   "execution_count": 31,
   "metadata": {},
   "outputs": [
    {
     "data": {
      "text/plain": [
       "\"No update needed: Concept 'A.1' is already set to 'mastery'.\""
      ]
     },
     "execution_count": 31,
     "metadata": {},
     "output_type": "execute_result"
    }
   ],
   "source": [
    "update_concept_status(\"A.1\", \"mastery\")"
   ]
  },
  {
   "cell_type": "code",
   "execution_count": 32,
   "metadata": {},
   "outputs": [
    {
     "name": "stdout",
     "output_type": "stream",
     "text": [
      "A.1 artificial intelligence is mastery\n"
     ]
    }
   ],
   "source": [
    "print(knowledge_state())"
   ]
  },
  {
   "cell_type": "code",
   "execution_count": 33,
   "metadata": {},
   "outputs": [
    {
     "data": {
      "text/plain": [
       "\"Prerequisites for Concept 'A.3':\\n - A.3: classification model\\n - A.7: dynamic model\\n - A.14: linear model\\n - A.20: model\\n - A.28: regression model\\n - A.30: static model\\n - D.3: deep model\\n - D.20: large language model\\n - A.2: binary classification\\n - A.3: classification model\\n - A.4: classification threshold\\n - A.21: multi-class classification\\n - E.5: class\\n - E.6: class-imbalanced dataset\\n - E.15: majority class\\n - E.17: minority class\\n - E.18: negative class\\n - E.24: positive class\\n - A.28: regression model\\n - A.2: binary classification\\n - A.21: multi-class classification\\n - A.16: logistic regression\\n - A.18: loss function\""
      ]
     },
     "execution_count": 33,
     "metadata": {},
     "output_type": "execute_result"
    }
   ],
   "source": [
    "get_prerequisites(\"A.3\")"
   ]
  }
 ],
 "metadata": {
  "kernelspec": {
   "display_name": ".venv",
   "language": "python",
   "name": "python3"
  },
  "language_info": {
   "codemirror_mode": {
    "name": "ipython",
    "version": 3
   },
   "file_extension": ".py",
   "mimetype": "text/x-python",
   "name": "python",
   "nbconvert_exporter": "python",
   "pygments_lexer": "ipython3",
   "version": "3.13.2"
  }
 },
 "nbformat": 4,
 "nbformat_minor": 2
}
